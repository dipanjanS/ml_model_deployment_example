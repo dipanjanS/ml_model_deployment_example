{
 "cells": [
  {
   "cell_type": "markdown",
   "metadata": {},
   "source": [
    "# Load Dependencies"
   ]
  },
  {
   "cell_type": "code",
   "execution_count": 3,
   "metadata": {},
   "outputs": [
    {
     "name": "stdout",
     "output_type": "stream",
     "text": [
      "Collecting xgboost\n",
      "  Downloading xgboost-1.4.1-py3-none-manylinux2010_x86_64.whl (166.7 MB)\n",
      "\u001b[K     |████████████████████████████████| 166.7 MB 91 kB/s s eta 0:00:01\n",
      "\u001b[?25hRequirement already satisfied: scipy in /opt/conda/lib/python3.8/site-packages (from xgboost) (1.5.2)\n",
      "Requirement already satisfied: numpy in /opt/conda/lib/python3.8/site-packages (from xgboost) (1.19.2)\n",
      "Installing collected packages: xgboost\n",
      "Successfully installed xgboost-1.4.1\n"
     ]
    }
   ],
   "source": [
    "!pip install xgboost"
   ]
  },
  {
   "cell_type": "code",
   "execution_count": 4,
   "metadata": {},
   "outputs": [],
   "source": [
    "import pandas as pd\n",
    "import numpy as np\n",
    "import sklearn\n",
    "import xgboost as xgb"
   ]
  },
  {
   "cell_type": "code",
   "execution_count": 5,
   "metadata": {},
   "outputs": [
    {
     "name": "stdout",
     "output_type": "stream",
     "text": [
      "Pandas version 1.1.3\n",
      "Numpy version 1.19.2\n",
      "Scikit Learn version 0.23.2\n",
      "XGBoost version 1.4.1\n"
     ]
    }
   ],
   "source": [
    "print('Pandas version', pd.__version__)\n",
    "print('Numpy version', np.__version__)\n",
    "print('Scikit Learn version', sklearn.__version__)\n",
    "print('XGBoost version', xgb.__version__)"
   ]
  },
  {
   "cell_type": "markdown",
   "metadata": {},
   "source": [
    "# Load Dataset"
   ]
  },
  {
   "cell_type": "code",
   "execution_count": 187,
   "metadata": {},
   "outputs": [
    {
     "name": "stdout",
     "output_type": "stream",
     "text": [
      "<class 'pandas.core.frame.DataFrame'>\n",
      "RangeIndex: 32561 entries, 0 to 32560\n",
      "Data columns (total 15 columns):\n",
      " #   Column          Non-Null Count  Dtype \n",
      "---  ------          --------------  ----- \n",
      " 0   age             32561 non-null  int64 \n",
      " 1   workclass       32561 non-null  object\n",
      " 2   fnlwgt          32561 non-null  int64 \n",
      " 3   education       32561 non-null  object\n",
      " 4   education.num   32561 non-null  int64 \n",
      " 5   marital.status  32561 non-null  object\n",
      " 6   occupation      32561 non-null  object\n",
      " 7   relationship    32561 non-null  object\n",
      " 8   race            32561 non-null  object\n",
      " 9   sex             32561 non-null  object\n",
      " 10  capital.gain    32561 non-null  int64 \n",
      " 11  capital.loss    32561 non-null  int64 \n",
      " 12  hours.per.week  32561 non-null  int64 \n",
      " 13  native.country  32561 non-null  object\n",
      " 14  income          32561 non-null  object\n",
      "dtypes: int64(6), object(9)\n",
      "memory usage: 3.7+ MB\n"
     ]
    }
   ],
   "source": [
    "df = pd.read_csv('../datasets/census.csv')\n",
    "df.info()"
   ]
  },
  {
   "cell_type": "code",
   "execution_count": 188,
   "metadata": {},
   "outputs": [
    {
     "data": {
      "text/html": [
       "<div>\n",
       "<style scoped>\n",
       "    .dataframe tbody tr th:only-of-type {\n",
       "        vertical-align: middle;\n",
       "    }\n",
       "\n",
       "    .dataframe tbody tr th {\n",
       "        vertical-align: top;\n",
       "    }\n",
       "\n",
       "    .dataframe thead th {\n",
       "        text-align: right;\n",
       "    }\n",
       "</style>\n",
       "<table border=\"1\" class=\"dataframe\">\n",
       "  <thead>\n",
       "    <tr style=\"text-align: right;\">\n",
       "      <th></th>\n",
       "      <th>age</th>\n",
       "      <th>workclass</th>\n",
       "      <th>fnlwgt</th>\n",
       "      <th>education</th>\n",
       "      <th>education.num</th>\n",
       "      <th>marital.status</th>\n",
       "      <th>occupation</th>\n",
       "      <th>relationship</th>\n",
       "      <th>race</th>\n",
       "      <th>sex</th>\n",
       "      <th>capital.gain</th>\n",
       "      <th>capital.loss</th>\n",
       "      <th>hours.per.week</th>\n",
       "      <th>native.country</th>\n",
       "      <th>income</th>\n",
       "    </tr>\n",
       "  </thead>\n",
       "  <tbody>\n",
       "    <tr>\n",
       "      <th>0</th>\n",
       "      <td>90</td>\n",
       "      <td>?</td>\n",
       "      <td>77053</td>\n",
       "      <td>HS-grad</td>\n",
       "      <td>9</td>\n",
       "      <td>Widowed</td>\n",
       "      <td>?</td>\n",
       "      <td>Not-in-family</td>\n",
       "      <td>White</td>\n",
       "      <td>Female</td>\n",
       "      <td>0</td>\n",
       "      <td>4356</td>\n",
       "      <td>40</td>\n",
       "      <td>United-States</td>\n",
       "      <td>&lt;=50K</td>\n",
       "    </tr>\n",
       "    <tr>\n",
       "      <th>1</th>\n",
       "      <td>82</td>\n",
       "      <td>Private</td>\n",
       "      <td>132870</td>\n",
       "      <td>HS-grad</td>\n",
       "      <td>9</td>\n",
       "      <td>Widowed</td>\n",
       "      <td>Exec-managerial</td>\n",
       "      <td>Not-in-family</td>\n",
       "      <td>White</td>\n",
       "      <td>Female</td>\n",
       "      <td>0</td>\n",
       "      <td>4356</td>\n",
       "      <td>18</td>\n",
       "      <td>United-States</td>\n",
       "      <td>&lt;=50K</td>\n",
       "    </tr>\n",
       "    <tr>\n",
       "      <th>2</th>\n",
       "      <td>66</td>\n",
       "      <td>?</td>\n",
       "      <td>186061</td>\n",
       "      <td>Some-college</td>\n",
       "      <td>10</td>\n",
       "      <td>Widowed</td>\n",
       "      <td>?</td>\n",
       "      <td>Unmarried</td>\n",
       "      <td>Black</td>\n",
       "      <td>Female</td>\n",
       "      <td>0</td>\n",
       "      <td>4356</td>\n",
       "      <td>40</td>\n",
       "      <td>United-States</td>\n",
       "      <td>&lt;=50K</td>\n",
       "    </tr>\n",
       "    <tr>\n",
       "      <th>3</th>\n",
       "      <td>54</td>\n",
       "      <td>Private</td>\n",
       "      <td>140359</td>\n",
       "      <td>7th-8th</td>\n",
       "      <td>4</td>\n",
       "      <td>Divorced</td>\n",
       "      <td>Machine-op-inspct</td>\n",
       "      <td>Unmarried</td>\n",
       "      <td>White</td>\n",
       "      <td>Female</td>\n",
       "      <td>0</td>\n",
       "      <td>3900</td>\n",
       "      <td>40</td>\n",
       "      <td>United-States</td>\n",
       "      <td>&lt;=50K</td>\n",
       "    </tr>\n",
       "    <tr>\n",
       "      <th>4</th>\n",
       "      <td>41</td>\n",
       "      <td>Private</td>\n",
       "      <td>264663</td>\n",
       "      <td>Some-college</td>\n",
       "      <td>10</td>\n",
       "      <td>Separated</td>\n",
       "      <td>Prof-specialty</td>\n",
       "      <td>Own-child</td>\n",
       "      <td>White</td>\n",
       "      <td>Female</td>\n",
       "      <td>0</td>\n",
       "      <td>3900</td>\n",
       "      <td>40</td>\n",
       "      <td>United-States</td>\n",
       "      <td>&lt;=50K</td>\n",
       "    </tr>\n",
       "  </tbody>\n",
       "</table>\n",
       "</div>"
      ],
      "text/plain": [
       "   age workclass  fnlwgt     education  education.num marital.status         occupation   relationship   race     sex  capital.gain  capital.loss  hours.per.week native.country income\n",
       "0   90         ?   77053       HS-grad              9        Widowed                  ?  Not-in-family  White  Female             0          4356              40  United-States  <=50K\n",
       "1   82   Private  132870       HS-grad              9        Widowed    Exec-managerial  Not-in-family  White  Female             0          4356              18  United-States  <=50K\n",
       "2   66         ?  186061  Some-college             10        Widowed                  ?      Unmarried  Black  Female             0          4356              40  United-States  <=50K\n",
       "3   54   Private  140359       7th-8th              4       Divorced  Machine-op-inspct      Unmarried  White  Female             0          3900              40  United-States  <=50K\n",
       "4   41   Private  264663  Some-college             10      Separated     Prof-specialty      Own-child  White  Female             0          3900              40  United-States  <=50K"
      ]
     },
     "execution_count": 188,
     "metadata": {},
     "output_type": "execute_result"
    }
   ],
   "source": [
    "df.head()"
   ]
  },
  {
   "cell_type": "markdown",
   "metadata": {},
   "source": [
    "We can pre-load the dataset with specific values (e.g., ?) depicting missing values (NaNs)"
   ]
  },
  {
   "cell_type": "code",
   "execution_count": 344,
   "metadata": {},
   "outputs": [
    {
     "name": "stdout",
     "output_type": "stream",
     "text": [
      "<class 'pandas.core.frame.DataFrame'>\n",
      "RangeIndex: 32561 entries, 0 to 32560\n",
      "Data columns (total 15 columns):\n",
      " #   Column          Non-Null Count  Dtype \n",
      "---  ------          --------------  ----- \n",
      " 0   age             32561 non-null  int64 \n",
      " 1   workclass       30725 non-null  object\n",
      " 2   fnlwgt          32561 non-null  int64 \n",
      " 3   education       32561 non-null  object\n",
      " 4   education.num   32561 non-null  int64 \n",
      " 5   marital.status  32561 non-null  object\n",
      " 6   occupation      30718 non-null  object\n",
      " 7   relationship    32561 non-null  object\n",
      " 8   race            32561 non-null  object\n",
      " 9   sex             32561 non-null  object\n",
      " 10  capital.gain    32561 non-null  int64 \n",
      " 11  capital.loss    32561 non-null  int64 \n",
      " 12  hours.per.week  32561 non-null  int64 \n",
      " 13  native.country  31978 non-null  object\n",
      " 14  income          32561 non-null  object\n",
      "dtypes: int64(6), object(9)\n",
      "memory usage: 3.7+ MB\n"
     ]
    }
   ],
   "source": [
    "df = pd.read_csv('../datasets/census.csv', na_values='?')\n",
    "df.info()"
   ]
  },
  {
   "cell_type": "code",
   "execution_count": 345,
   "metadata": {},
   "outputs": [
    {
     "data": {
      "text/html": [
       "<div>\n",
       "<style scoped>\n",
       "    .dataframe tbody tr th:only-of-type {\n",
       "        vertical-align: middle;\n",
       "    }\n",
       "\n",
       "    .dataframe tbody tr th {\n",
       "        vertical-align: top;\n",
       "    }\n",
       "\n",
       "    .dataframe thead th {\n",
       "        text-align: right;\n",
       "    }\n",
       "</style>\n",
       "<table border=\"1\" class=\"dataframe\">\n",
       "  <thead>\n",
       "    <tr style=\"text-align: right;\">\n",
       "      <th></th>\n",
       "      <th>age</th>\n",
       "      <th>workclass</th>\n",
       "      <th>fnlwgt</th>\n",
       "      <th>education</th>\n",
       "      <th>education.num</th>\n",
       "      <th>marital.status</th>\n",
       "      <th>occupation</th>\n",
       "      <th>relationship</th>\n",
       "      <th>race</th>\n",
       "      <th>sex</th>\n",
       "      <th>capital.gain</th>\n",
       "      <th>capital.loss</th>\n",
       "      <th>hours.per.week</th>\n",
       "      <th>native.country</th>\n",
       "      <th>income</th>\n",
       "    </tr>\n",
       "  </thead>\n",
       "  <tbody>\n",
       "    <tr>\n",
       "      <th>0</th>\n",
       "      <td>90</td>\n",
       "      <td>NaN</td>\n",
       "      <td>77053</td>\n",
       "      <td>HS-grad</td>\n",
       "      <td>9</td>\n",
       "      <td>Widowed</td>\n",
       "      <td>NaN</td>\n",
       "      <td>Not-in-family</td>\n",
       "      <td>White</td>\n",
       "      <td>Female</td>\n",
       "      <td>0</td>\n",
       "      <td>4356</td>\n",
       "      <td>40</td>\n",
       "      <td>United-States</td>\n",
       "      <td>&lt;=50K</td>\n",
       "    </tr>\n",
       "    <tr>\n",
       "      <th>1</th>\n",
       "      <td>82</td>\n",
       "      <td>Private</td>\n",
       "      <td>132870</td>\n",
       "      <td>HS-grad</td>\n",
       "      <td>9</td>\n",
       "      <td>Widowed</td>\n",
       "      <td>Exec-managerial</td>\n",
       "      <td>Not-in-family</td>\n",
       "      <td>White</td>\n",
       "      <td>Female</td>\n",
       "      <td>0</td>\n",
       "      <td>4356</td>\n",
       "      <td>18</td>\n",
       "      <td>United-States</td>\n",
       "      <td>&lt;=50K</td>\n",
       "    </tr>\n",
       "    <tr>\n",
       "      <th>2</th>\n",
       "      <td>66</td>\n",
       "      <td>NaN</td>\n",
       "      <td>186061</td>\n",
       "      <td>Some-college</td>\n",
       "      <td>10</td>\n",
       "      <td>Widowed</td>\n",
       "      <td>NaN</td>\n",
       "      <td>Unmarried</td>\n",
       "      <td>Black</td>\n",
       "      <td>Female</td>\n",
       "      <td>0</td>\n",
       "      <td>4356</td>\n",
       "      <td>40</td>\n",
       "      <td>United-States</td>\n",
       "      <td>&lt;=50K</td>\n",
       "    </tr>\n",
       "    <tr>\n",
       "      <th>3</th>\n",
       "      <td>54</td>\n",
       "      <td>Private</td>\n",
       "      <td>140359</td>\n",
       "      <td>7th-8th</td>\n",
       "      <td>4</td>\n",
       "      <td>Divorced</td>\n",
       "      <td>Machine-op-inspct</td>\n",
       "      <td>Unmarried</td>\n",
       "      <td>White</td>\n",
       "      <td>Female</td>\n",
       "      <td>0</td>\n",
       "      <td>3900</td>\n",
       "      <td>40</td>\n",
       "      <td>United-States</td>\n",
       "      <td>&lt;=50K</td>\n",
       "    </tr>\n",
       "    <tr>\n",
       "      <th>4</th>\n",
       "      <td>41</td>\n",
       "      <td>Private</td>\n",
       "      <td>264663</td>\n",
       "      <td>Some-college</td>\n",
       "      <td>10</td>\n",
       "      <td>Separated</td>\n",
       "      <td>Prof-specialty</td>\n",
       "      <td>Own-child</td>\n",
       "      <td>White</td>\n",
       "      <td>Female</td>\n",
       "      <td>0</td>\n",
       "      <td>3900</td>\n",
       "      <td>40</td>\n",
       "      <td>United-States</td>\n",
       "      <td>&lt;=50K</td>\n",
       "    </tr>\n",
       "  </tbody>\n",
       "</table>\n",
       "</div>"
      ],
      "text/plain": [
       "   age workclass  fnlwgt     education  education.num marital.status         occupation   relationship   race     sex  capital.gain  capital.loss  hours.per.week native.country income\n",
       "0   90       NaN   77053       HS-grad              9        Widowed                NaN  Not-in-family  White  Female             0          4356              40  United-States  <=50K\n",
       "1   82   Private  132870       HS-grad              9        Widowed    Exec-managerial  Not-in-family  White  Female             0          4356              18  United-States  <=50K\n",
       "2   66       NaN  186061  Some-college             10        Widowed                NaN      Unmarried  Black  Female             0          4356              40  United-States  <=50K\n",
       "3   54   Private  140359       7th-8th              4       Divorced  Machine-op-inspct      Unmarried  White  Female             0          3900              40  United-States  <=50K\n",
       "4   41   Private  264663  Some-college             10      Separated     Prof-specialty      Own-child  White  Female             0          3900              40  United-States  <=50K"
      ]
     },
     "execution_count": 345,
     "metadata": {},
     "output_type": "execute_result"
    }
   ],
   "source": [
    "df.head()"
   ]
  },
  {
   "cell_type": "markdown",
   "metadata": {},
   "source": [
    "We remove the `fnlwgt` column to keep things simple"
   ]
  },
  {
   "cell_type": "code",
   "execution_count": 346,
   "metadata": {},
   "outputs": [
    {
     "data": {
      "text/plain": [
       "['relationship',\n",
       " 'marital.status',\n",
       " 'workclass',\n",
       " 'occupation',\n",
       " 'race',\n",
       " 'income',\n",
       " 'age',\n",
       " 'hours.per.week',\n",
       " 'native.country',\n",
       " 'sex',\n",
       " 'education.num',\n",
       " 'education',\n",
       " 'capital.loss',\n",
       " 'capital.gain']"
      ]
     },
     "execution_count": 346,
     "metadata": {},
     "output_type": "execute_result"
    }
   ],
   "source": [
    "final_columns = set(df.columns) - set(['fnlwgt'])\n",
    "final_columns = list(final_columns)\n",
    "final_columns"
   ]
  },
  {
   "cell_type": "code",
   "execution_count": 347,
   "metadata": {},
   "outputs": [
    {
     "data": {
      "text/html": [
       "<div>\n",
       "<style scoped>\n",
       "    .dataframe tbody tr th:only-of-type {\n",
       "        vertical-align: middle;\n",
       "    }\n",
       "\n",
       "    .dataframe tbody tr th {\n",
       "        vertical-align: top;\n",
       "    }\n",
       "\n",
       "    .dataframe thead th {\n",
       "        text-align: right;\n",
       "    }\n",
       "</style>\n",
       "<table border=\"1\" class=\"dataframe\">\n",
       "  <thead>\n",
       "    <tr style=\"text-align: right;\">\n",
       "      <th></th>\n",
       "      <th>relationship</th>\n",
       "      <th>marital.status</th>\n",
       "      <th>workclass</th>\n",
       "      <th>occupation</th>\n",
       "      <th>race</th>\n",
       "      <th>income</th>\n",
       "      <th>age</th>\n",
       "      <th>hours.per.week</th>\n",
       "      <th>native.country</th>\n",
       "      <th>sex</th>\n",
       "      <th>education.num</th>\n",
       "      <th>education</th>\n",
       "      <th>capital.loss</th>\n",
       "      <th>capital.gain</th>\n",
       "    </tr>\n",
       "  </thead>\n",
       "  <tbody>\n",
       "    <tr>\n",
       "      <th>0</th>\n",
       "      <td>Not-in-family</td>\n",
       "      <td>Widowed</td>\n",
       "      <td>NaN</td>\n",
       "      <td>NaN</td>\n",
       "      <td>White</td>\n",
       "      <td>&lt;=50K</td>\n",
       "      <td>90</td>\n",
       "      <td>40</td>\n",
       "      <td>United-States</td>\n",
       "      <td>Female</td>\n",
       "      <td>9</td>\n",
       "      <td>HS-grad</td>\n",
       "      <td>4356</td>\n",
       "      <td>0</td>\n",
       "    </tr>\n",
       "    <tr>\n",
       "      <th>1</th>\n",
       "      <td>Not-in-family</td>\n",
       "      <td>Widowed</td>\n",
       "      <td>Private</td>\n",
       "      <td>Exec-managerial</td>\n",
       "      <td>White</td>\n",
       "      <td>&lt;=50K</td>\n",
       "      <td>82</td>\n",
       "      <td>18</td>\n",
       "      <td>United-States</td>\n",
       "      <td>Female</td>\n",
       "      <td>9</td>\n",
       "      <td>HS-grad</td>\n",
       "      <td>4356</td>\n",
       "      <td>0</td>\n",
       "    </tr>\n",
       "    <tr>\n",
       "      <th>2</th>\n",
       "      <td>Unmarried</td>\n",
       "      <td>Widowed</td>\n",
       "      <td>NaN</td>\n",
       "      <td>NaN</td>\n",
       "      <td>Black</td>\n",
       "      <td>&lt;=50K</td>\n",
       "      <td>66</td>\n",
       "      <td>40</td>\n",
       "      <td>United-States</td>\n",
       "      <td>Female</td>\n",
       "      <td>10</td>\n",
       "      <td>Some-college</td>\n",
       "      <td>4356</td>\n",
       "      <td>0</td>\n",
       "    </tr>\n",
       "    <tr>\n",
       "      <th>3</th>\n",
       "      <td>Unmarried</td>\n",
       "      <td>Divorced</td>\n",
       "      <td>Private</td>\n",
       "      <td>Machine-op-inspct</td>\n",
       "      <td>White</td>\n",
       "      <td>&lt;=50K</td>\n",
       "      <td>54</td>\n",
       "      <td>40</td>\n",
       "      <td>United-States</td>\n",
       "      <td>Female</td>\n",
       "      <td>4</td>\n",
       "      <td>7th-8th</td>\n",
       "      <td>3900</td>\n",
       "      <td>0</td>\n",
       "    </tr>\n",
       "    <tr>\n",
       "      <th>4</th>\n",
       "      <td>Own-child</td>\n",
       "      <td>Separated</td>\n",
       "      <td>Private</td>\n",
       "      <td>Prof-specialty</td>\n",
       "      <td>White</td>\n",
       "      <td>&lt;=50K</td>\n",
       "      <td>41</td>\n",
       "      <td>40</td>\n",
       "      <td>United-States</td>\n",
       "      <td>Female</td>\n",
       "      <td>10</td>\n",
       "      <td>Some-college</td>\n",
       "      <td>3900</td>\n",
       "      <td>0</td>\n",
       "    </tr>\n",
       "  </tbody>\n",
       "</table>\n",
       "</div>"
      ],
      "text/plain": [
       "    relationship marital.status workclass         occupation   race income  age  hours.per.week native.country     sex  education.num     education  capital.loss  capital.gain\n",
       "0  Not-in-family        Widowed       NaN                NaN  White  <=50K   90              40  United-States  Female              9       HS-grad          4356             0\n",
       "1  Not-in-family        Widowed   Private    Exec-managerial  White  <=50K   82              18  United-States  Female              9       HS-grad          4356             0\n",
       "2      Unmarried        Widowed       NaN                NaN  Black  <=50K   66              40  United-States  Female             10  Some-college          4356             0\n",
       "3      Unmarried       Divorced   Private  Machine-op-inspct  White  <=50K   54              40  United-States  Female              4       7th-8th          3900             0\n",
       "4      Own-child      Separated   Private     Prof-specialty  White  <=50K   41              40  United-States  Female             10  Some-college          3900             0"
      ]
     },
     "execution_count": 347,
     "metadata": {},
     "output_type": "execute_result"
    }
   ],
   "source": [
    "df = df[final_columns]\n",
    "df.head()"
   ]
  },
  {
   "cell_type": "markdown",
   "metadata": {},
   "source": [
    "# Split Dataset into train and test Datsets"
   ]
  },
  {
   "cell_type": "markdown",
   "metadata": {},
   "source": [
    "We split the dataset into a standard 70:30 train-test split using stratified sampling to keep the distributions of classes similar in train and test datasets"
   ]
  },
  {
   "cell_type": "code",
   "execution_count": 348,
   "metadata": {},
   "outputs": [],
   "source": [
    "X = df.drop(columns=['income'])\n",
    "y = df['income']"
   ]
  },
  {
   "cell_type": "code",
   "execution_count": 349,
   "metadata": {},
   "outputs": [
    {
     "data": {
      "text/plain": [
       "((22792, 13), (9769, 13))"
      ]
     },
     "execution_count": 349,
     "metadata": {},
     "output_type": "execute_result"
    }
   ],
   "source": [
    "from sklearn.model_selection import train_test_split\n",
    "\n",
    "X_train, X_test, y_train, y_test = train_test_split(X, y, test_size=0.3, random_state=42, stratify=y)\n",
    "X_train.shape, X_test.shape"
   ]
  },
  {
   "cell_type": "code",
   "execution_count": 350,
   "metadata": {},
   "outputs": [
    {
     "data": {
      "text/plain": [
       "<=50K    17303\n",
       ">50K      5489\n",
       "Name: income, dtype: int64"
      ]
     },
     "execution_count": 350,
     "metadata": {},
     "output_type": "execute_result"
    }
   ],
   "source": [
    "y_train.value_counts()"
   ]
  },
  {
   "cell_type": "code",
   "execution_count": 351,
   "metadata": {},
   "outputs": [
    {
     "data": {
      "text/plain": [
       "<=50K    7417\n",
       ">50K     2352\n",
       "Name: income, dtype: int64"
      ]
     },
     "execution_count": 351,
     "metadata": {},
     "output_type": "execute_result"
    }
   ],
   "source": [
    "y_test.value_counts()"
   ]
  },
  {
   "cell_type": "markdown",
   "metadata": {},
   "source": [
    "# Missing Values Imputation and Feature Encoding"
   ]
  },
  {
   "cell_type": "markdown",
   "metadata": {},
   "source": [
    "Here we will perform the following strategy for missing value imputation and feature encoding\n",
    "\n",
    "- Separate features into numeric and categorical from the training data\n",
    "- Fill missing values in categorical data with 'Not Available' given they can't be guessed\n",
    "- Perform one-hot encoding of the categorical data to get dummy-encoded features\n",
    "- Fill missing values in numeric data using a K-nearest neighbors model\n",
    "- Combine the one-hot encoded categorical features and the numeric features to form the final featureset\n",
    "\n",
    "\n",
    "- Apply similar transformations on the test data"
   ]
  },
  {
   "cell_type": "code",
   "execution_count": 352,
   "metadata": {},
   "outputs": [
    {
     "name": "stdout",
     "output_type": "stream",
     "text": [
      "<class 'pandas.core.frame.DataFrame'>\n",
      "Int64Index: 22792 entries, 24582 to 7468\n",
      "Data columns (total 13 columns):\n",
      " #   Column          Non-Null Count  Dtype \n",
      "---  ------          --------------  ----- \n",
      " 0   relationship    22792 non-null  object\n",
      " 1   marital.status  22792 non-null  object\n",
      " 2   workclass       21497 non-null  object\n",
      " 3   occupation      21493 non-null  object\n",
      " 4   race            22792 non-null  object\n",
      " 5   age             22792 non-null  int64 \n",
      " 6   hours.per.week  22792 non-null  int64 \n",
      " 7   native.country  22388 non-null  object\n",
      " 8   sex             22792 non-null  object\n",
      " 9   education.num   22792 non-null  int64 \n",
      " 10  education       22792 non-null  object\n",
      " 11  capital.loss    22792 non-null  int64 \n",
      " 12  capital.gain    22792 non-null  int64 \n",
      "dtypes: int64(5), object(8)\n",
      "memory usage: 2.4+ MB\n"
     ]
    }
   ],
   "source": [
    "X_train.info()"
   ]
  },
  {
   "cell_type": "code",
   "execution_count": 353,
   "metadata": {},
   "outputs": [],
   "source": [
    "X_train_cat = X_train.select_dtypes(include='object')\n",
    "X_train_num = X_train.select_dtypes(exclude='object')"
   ]
  },
  {
   "cell_type": "code",
   "execution_count": 354,
   "metadata": {},
   "outputs": [
    {
     "data": {
      "text/html": [
       "<div>\n",
       "<style scoped>\n",
       "    .dataframe tbody tr th:only-of-type {\n",
       "        vertical-align: middle;\n",
       "    }\n",
       "\n",
       "    .dataframe tbody tr th {\n",
       "        vertical-align: top;\n",
       "    }\n",
       "\n",
       "    .dataframe thead th {\n",
       "        text-align: right;\n",
       "    }\n",
       "</style>\n",
       "<table border=\"1\" class=\"dataframe\">\n",
       "  <thead>\n",
       "    <tr style=\"text-align: right;\">\n",
       "      <th></th>\n",
       "      <th>relationship</th>\n",
       "      <th>marital.status</th>\n",
       "      <th>workclass</th>\n",
       "      <th>occupation</th>\n",
       "      <th>race</th>\n",
       "      <th>native.country</th>\n",
       "      <th>sex</th>\n",
       "      <th>education</th>\n",
       "    </tr>\n",
       "  </thead>\n",
       "  <tbody>\n",
       "    <tr>\n",
       "      <th>24582</th>\n",
       "      <td>Own-child</td>\n",
       "      <td>Never-married</td>\n",
       "      <td>Private</td>\n",
       "      <td>Sales</td>\n",
       "      <td>White</td>\n",
       "      <td>United-States</td>\n",
       "      <td>Male</td>\n",
       "      <td>HS-grad</td>\n",
       "    </tr>\n",
       "    <tr>\n",
       "      <th>10298</th>\n",
       "      <td>Own-child</td>\n",
       "      <td>Never-married</td>\n",
       "      <td>Self-emp-not-inc</td>\n",
       "      <td>Farming-fishing</td>\n",
       "      <td>White</td>\n",
       "      <td>United-States</td>\n",
       "      <td>Male</td>\n",
       "      <td>7th-8th</td>\n",
       "    </tr>\n",
       "    <tr>\n",
       "      <th>16626</th>\n",
       "      <td>Own-child</td>\n",
       "      <td>Never-married</td>\n",
       "      <td>Private</td>\n",
       "      <td>Handlers-cleaners</td>\n",
       "      <td>White</td>\n",
       "      <td>United-States</td>\n",
       "      <td>Male</td>\n",
       "      <td>Some-college</td>\n",
       "    </tr>\n",
       "    <tr>\n",
       "      <th>11039</th>\n",
       "      <td>Not-in-family</td>\n",
       "      <td>Widowed</td>\n",
       "      <td>Private</td>\n",
       "      <td>Exec-managerial</td>\n",
       "      <td>White</td>\n",
       "      <td>United-States</td>\n",
       "      <td>Female</td>\n",
       "      <td>Some-college</td>\n",
       "    </tr>\n",
       "    <tr>\n",
       "      <th>2535</th>\n",
       "      <td>Husband</td>\n",
       "      <td>Married-civ-spouse</td>\n",
       "      <td>Self-emp-inc</td>\n",
       "      <td>Exec-managerial</td>\n",
       "      <td>White</td>\n",
       "      <td>United-States</td>\n",
       "      <td>Male</td>\n",
       "      <td>Some-college</td>\n",
       "    </tr>\n",
       "  </tbody>\n",
       "</table>\n",
       "</div>"
      ],
      "text/plain": [
       "        relationship      marital.status         workclass         occupation   race native.country     sex     education\n",
       "24582      Own-child       Never-married           Private              Sales  White  United-States    Male       HS-grad\n",
       "10298      Own-child       Never-married  Self-emp-not-inc    Farming-fishing  White  United-States    Male       7th-8th\n",
       "16626      Own-child       Never-married           Private  Handlers-cleaners  White  United-States    Male  Some-college\n",
       "11039  Not-in-family             Widowed           Private    Exec-managerial  White  United-States  Female  Some-college\n",
       "2535         Husband  Married-civ-spouse      Self-emp-inc    Exec-managerial  White  United-States    Male  Some-college"
      ]
     },
     "execution_count": 354,
     "metadata": {},
     "output_type": "execute_result"
    }
   ],
   "source": [
    "X_train_cat.head()"
   ]
  },
  {
   "cell_type": "code",
   "execution_count": 355,
   "metadata": {},
   "outputs": [
    {
     "data": {
      "text/html": [
       "<div>\n",
       "<style scoped>\n",
       "    .dataframe tbody tr th:only-of-type {\n",
       "        vertical-align: middle;\n",
       "    }\n",
       "\n",
       "    .dataframe tbody tr th {\n",
       "        vertical-align: top;\n",
       "    }\n",
       "\n",
       "    .dataframe thead th {\n",
       "        text-align: right;\n",
       "    }\n",
       "</style>\n",
       "<table border=\"1\" class=\"dataframe\">\n",
       "  <thead>\n",
       "    <tr style=\"text-align: right;\">\n",
       "      <th></th>\n",
       "      <th>age</th>\n",
       "      <th>hours.per.week</th>\n",
       "      <th>education.num</th>\n",
       "      <th>capital.loss</th>\n",
       "      <th>capital.gain</th>\n",
       "    </tr>\n",
       "  </thead>\n",
       "  <tbody>\n",
       "    <tr>\n",
       "      <th>24582</th>\n",
       "      <td>28</td>\n",
       "      <td>48</td>\n",
       "      <td>9</td>\n",
       "      <td>0</td>\n",
       "      <td>0</td>\n",
       "    </tr>\n",
       "    <tr>\n",
       "      <th>10298</th>\n",
       "      <td>24</td>\n",
       "      <td>50</td>\n",
       "      <td>4</td>\n",
       "      <td>0</td>\n",
       "      <td>0</td>\n",
       "    </tr>\n",
       "    <tr>\n",
       "      <th>16626</th>\n",
       "      <td>20</td>\n",
       "      <td>35</td>\n",
       "      <td>10</td>\n",
       "      <td>0</td>\n",
       "      <td>0</td>\n",
       "    </tr>\n",
       "    <tr>\n",
       "      <th>11039</th>\n",
       "      <td>70</td>\n",
       "      <td>12</td>\n",
       "      <td>10</td>\n",
       "      <td>0</td>\n",
       "      <td>0</td>\n",
       "    </tr>\n",
       "    <tr>\n",
       "      <th>2535</th>\n",
       "      <td>44</td>\n",
       "      <td>45</td>\n",
       "      <td>10</td>\n",
       "      <td>0</td>\n",
       "      <td>7688</td>\n",
       "    </tr>\n",
       "  </tbody>\n",
       "</table>\n",
       "</div>"
      ],
      "text/plain": [
       "       age  hours.per.week  education.num  capital.loss  capital.gain\n",
       "24582   28              48              9             0             0\n",
       "10298   24              50              4             0             0\n",
       "16626   20              35             10             0             0\n",
       "11039   70              12             10             0             0\n",
       "2535    44              45             10             0          7688"
      ]
     },
     "execution_count": 355,
     "metadata": {},
     "output_type": "execute_result"
    }
   ],
   "source": [
    "X_train_num.head()"
   ]
  },
  {
   "cell_type": "markdown",
   "metadata": {},
   "source": [
    "## Impute missing data in Categorical Features"
   ]
  },
  {
   "cell_type": "code",
   "execution_count": 356,
   "metadata": {},
   "outputs": [
    {
     "name": "stdout",
     "output_type": "stream",
     "text": [
      "<class 'pandas.core.frame.DataFrame'>\n",
      "Int64Index: 22792 entries, 24582 to 7468\n",
      "Data columns (total 8 columns):\n",
      " #   Column          Non-Null Count  Dtype \n",
      "---  ------          --------------  ----- \n",
      " 0   relationship    22792 non-null  object\n",
      " 1   marital.status  22792 non-null  object\n",
      " 2   workclass       21497 non-null  object\n",
      " 3   occupation      21493 non-null  object\n",
      " 4   race            22792 non-null  object\n",
      " 5   native.country  22388 non-null  object\n",
      " 6   sex             22792 non-null  object\n",
      " 7   education       22792 non-null  object\n",
      "dtypes: object(8)\n",
      "memory usage: 1.6+ MB\n"
     ]
    }
   ],
   "source": [
    "X_train_cat.info()"
   ]
  },
  {
   "cell_type": "code",
   "execution_count": 357,
   "metadata": {},
   "outputs": [],
   "source": [
    "from sklearn.impute import SimpleImputer\n",
    "\n",
    "cat_cols = X_train_cat.columns\n",
    "cat_imputer = SimpleImputer(strategy='constant', fill_value='Not Available', verbose=1)\n",
    "X_train_cat = pd.DataFrame(cat_imputer.fit_transform(X_train_cat), columns=cat_cols)"
   ]
  },
  {
   "cell_type": "markdown",
   "metadata": {},
   "source": [
    "## One-hot encode Categorical Features"
   ]
  },
  {
   "cell_type": "code",
   "execution_count": 358,
   "metadata": {},
   "outputs": [
    {
     "data": {
      "text/plain": [
       "(array([[0., 0., 0., ..., 0., 0., 0.],\n",
       "        [0., 0., 0., ..., 0., 0., 0.],\n",
       "        [0., 0., 0., ..., 0., 0., 1.],\n",
       "        ...,\n",
       "        [0., 1., 0., ..., 0., 0., 0.],\n",
       "        [0., 0., 0., ..., 0., 0., 0.],\n",
       "        [1., 0., 0., ..., 0., 0., 1.]]),\n",
       " array(['relationship_Husband', 'relationship_Not-in-family',\n",
       "        'relationship_Other-relative', 'relationship_Own-child',\n",
       "        'relationship_Unmarried', 'relationship_Wife',\n",
       "        'marital.status_Divorced', 'marital.status_Married-AF-spouse',\n",
       "        'marital.status_Married-civ-spouse',\n",
       "        'marital.status_Married-spouse-absent',\n",
       "        'marital.status_Never-married', 'marital.status_Separated',\n",
       "        'marital.status_Widowed', 'workclass_Federal-gov',\n",
       "        'workclass_Local-gov', 'workclass_Never-worked',\n",
       "        'workclass_Not Available', 'workclass_Private',\n",
       "        'workclass_Self-emp-inc', 'workclass_Self-emp-not-inc',\n",
       "        'workclass_State-gov', 'workclass_Without-pay',\n",
       "        'occupation_Adm-clerical', 'occupation_Armed-Forces',\n",
       "        'occupation_Craft-repair', 'occupation_Exec-managerial',\n",
       "        'occupation_Farming-fishing', 'occupation_Handlers-cleaners',\n",
       "        'occupation_Machine-op-inspct', 'occupation_Not Available',\n",
       "        'occupation_Other-service', 'occupation_Priv-house-serv',\n",
       "        'occupation_Prof-specialty', 'occupation_Protective-serv',\n",
       "        'occupation_Sales', 'occupation_Tech-support',\n",
       "        'occupation_Transport-moving', 'race_Amer-Indian-Eskimo',\n",
       "        'race_Asian-Pac-Islander', 'race_Black', 'race_Other',\n",
       "        'race_White', 'native.country_Cambodia', 'native.country_Canada',\n",
       "        'native.country_China', 'native.country_Columbia',\n",
       "        'native.country_Cuba', 'native.country_Dominican-Republic',\n",
       "        'native.country_Ecuador', 'native.country_El-Salvador',\n",
       "        'native.country_England', 'native.country_France',\n",
       "        'native.country_Germany', 'native.country_Greece',\n",
       "        'native.country_Guatemala', 'native.country_Haiti',\n",
       "        'native.country_Honduras', 'native.country_Hong',\n",
       "        'native.country_Hungary', 'native.country_India',\n",
       "        'native.country_Iran', 'native.country_Ireland',\n",
       "        'native.country_Italy', 'native.country_Jamaica',\n",
       "        'native.country_Japan', 'native.country_Laos',\n",
       "        'native.country_Mexico', 'native.country_Nicaragua',\n",
       "        'native.country_Not Available',\n",
       "        'native.country_Outlying-US(Guam-USVI-etc)', 'native.country_Peru',\n",
       "        'native.country_Philippines', 'native.country_Poland',\n",
       "        'native.country_Portugal', 'native.country_Puerto-Rico',\n",
       "        'native.country_Scotland', 'native.country_South',\n",
       "        'native.country_Taiwan', 'native.country_Thailand',\n",
       "        'native.country_Trinadad&Tobago', 'native.country_United-States',\n",
       "        'native.country_Vietnam', 'native.country_Yugoslavia',\n",
       "        'sex_Female', 'sex_Male', 'education_10th', 'education_11th',\n",
       "        'education_12th', 'education_1st-4th', 'education_5th-6th',\n",
       "        'education_7th-8th', 'education_9th', 'education_Assoc-acdm',\n",
       "        'education_Assoc-voc', 'education_Bachelors',\n",
       "        'education_Doctorate', 'education_HS-grad', 'education_Masters',\n",
       "        'education_Preschool', 'education_Prof-school',\n",
       "        'education_Some-college'], dtype=object))"
      ]
     },
     "execution_count": 358,
     "metadata": {},
     "output_type": "execute_result"
    }
   ],
   "source": [
    "from sklearn.preprocessing import OneHotEncoder\n",
    "\n",
    "cat_dummy_encoder = OneHotEncoder(handle_unknown='ignore')\n",
    "X_train_cat_ohe = cat_dummy_encoder.fit_transform(X_train_cat).toarray()\n",
    "X_train_cat_ohe, cat_dummy_encoder.get_feature_names(cat_cols)"
   ]
  },
  {
   "cell_type": "code",
   "execution_count": 359,
   "metadata": {},
   "outputs": [],
   "source": [
    "cat_ohe_cols = cat_dummy_encoder.get_feature_names(cat_cols)\n",
    "X_train_cat_ohe = pd.DataFrame(X_train_cat_ohe, \n",
    "                               columns=cat_ohe_cols)"
   ]
  },
  {
   "cell_type": "markdown",
   "metadata": {},
   "source": [
    "## Impute missing data in Numeric Features"
   ]
  },
  {
   "cell_type": "code",
   "execution_count": 360,
   "metadata": {},
   "outputs": [],
   "source": [
    "from sklearn.impute import KNNImputer\n",
    "\n",
    "num_cols = X_train_num.columns\n",
    "knn_imp = KNNImputer(n_neighbors=5)\n",
    "X_train_num = pd.DataFrame(knn_imp.fit_transform(X_train_num), columns=num_cols)"
   ]
  },
  {
   "cell_type": "markdown",
   "metadata": {},
   "source": [
    "## Combine Numeric and encoded Categorical Features"
   ]
  },
  {
   "cell_type": "code",
   "execution_count": 361,
   "metadata": {},
   "outputs": [
    {
     "name": "stdout",
     "output_type": "stream",
     "text": [
      "<class 'pandas.core.frame.DataFrame'>\n",
      "RangeIndex: 22792 entries, 0 to 22791\n",
      "Columns: 106 entries, age to education_Some-college\n",
      "dtypes: float64(106)\n",
      "memory usage: 18.4 MB\n"
     ]
    }
   ],
   "source": [
    "X_train = pd.concat([X_train_num, X_train_cat_ohe], axis=1)\n",
    "X_train.info()"
   ]
  },
  {
   "cell_type": "code",
   "execution_count": 362,
   "metadata": {},
   "outputs": [
    {
     "data": {
      "text/html": [
       "<div>\n",
       "<style scoped>\n",
       "    .dataframe tbody tr th:only-of-type {\n",
       "        vertical-align: middle;\n",
       "    }\n",
       "\n",
       "    .dataframe tbody tr th {\n",
       "        vertical-align: top;\n",
       "    }\n",
       "\n",
       "    .dataframe thead th {\n",
       "        text-align: right;\n",
       "    }\n",
       "</style>\n",
       "<table border=\"1\" class=\"dataframe\">\n",
       "  <thead>\n",
       "    <tr style=\"text-align: right;\">\n",
       "      <th></th>\n",
       "      <th>age</th>\n",
       "      <th>hours.per.week</th>\n",
       "      <th>education.num</th>\n",
       "      <th>capital.loss</th>\n",
       "      <th>capital.gain</th>\n",
       "      <th>relationship_Husband</th>\n",
       "      <th>relationship_Not-in-family</th>\n",
       "      <th>relationship_Other-relative</th>\n",
       "      <th>relationship_Own-child</th>\n",
       "      <th>relationship_Unmarried</th>\n",
       "      <th>...</th>\n",
       "      <th>education_9th</th>\n",
       "      <th>education_Assoc-acdm</th>\n",
       "      <th>education_Assoc-voc</th>\n",
       "      <th>education_Bachelors</th>\n",
       "      <th>education_Doctorate</th>\n",
       "      <th>education_HS-grad</th>\n",
       "      <th>education_Masters</th>\n",
       "      <th>education_Preschool</th>\n",
       "      <th>education_Prof-school</th>\n",
       "      <th>education_Some-college</th>\n",
       "    </tr>\n",
       "  </thead>\n",
       "  <tbody>\n",
       "    <tr>\n",
       "      <th>0</th>\n",
       "      <td>28.0</td>\n",
       "      <td>48.0</td>\n",
       "      <td>9.0</td>\n",
       "      <td>0.0</td>\n",
       "      <td>0.0</td>\n",
       "      <td>0.0</td>\n",
       "      <td>0.0</td>\n",
       "      <td>0.0</td>\n",
       "      <td>1.0</td>\n",
       "      <td>0.0</td>\n",
       "      <td>...</td>\n",
       "      <td>0.0</td>\n",
       "      <td>0.0</td>\n",
       "      <td>0.0</td>\n",
       "      <td>0.0</td>\n",
       "      <td>0.0</td>\n",
       "      <td>1.0</td>\n",
       "      <td>0.0</td>\n",
       "      <td>0.0</td>\n",
       "      <td>0.0</td>\n",
       "      <td>0.0</td>\n",
       "    </tr>\n",
       "    <tr>\n",
       "      <th>1</th>\n",
       "      <td>24.0</td>\n",
       "      <td>50.0</td>\n",
       "      <td>4.0</td>\n",
       "      <td>0.0</td>\n",
       "      <td>0.0</td>\n",
       "      <td>0.0</td>\n",
       "      <td>0.0</td>\n",
       "      <td>0.0</td>\n",
       "      <td>1.0</td>\n",
       "      <td>0.0</td>\n",
       "      <td>...</td>\n",
       "      <td>0.0</td>\n",
       "      <td>0.0</td>\n",
       "      <td>0.0</td>\n",
       "      <td>0.0</td>\n",
       "      <td>0.0</td>\n",
       "      <td>0.0</td>\n",
       "      <td>0.0</td>\n",
       "      <td>0.0</td>\n",
       "      <td>0.0</td>\n",
       "      <td>0.0</td>\n",
       "    </tr>\n",
       "    <tr>\n",
       "      <th>2</th>\n",
       "      <td>20.0</td>\n",
       "      <td>35.0</td>\n",
       "      <td>10.0</td>\n",
       "      <td>0.0</td>\n",
       "      <td>0.0</td>\n",
       "      <td>0.0</td>\n",
       "      <td>0.0</td>\n",
       "      <td>0.0</td>\n",
       "      <td>1.0</td>\n",
       "      <td>0.0</td>\n",
       "      <td>...</td>\n",
       "      <td>0.0</td>\n",
       "      <td>0.0</td>\n",
       "      <td>0.0</td>\n",
       "      <td>0.0</td>\n",
       "      <td>0.0</td>\n",
       "      <td>0.0</td>\n",
       "      <td>0.0</td>\n",
       "      <td>0.0</td>\n",
       "      <td>0.0</td>\n",
       "      <td>1.0</td>\n",
       "    </tr>\n",
       "  </tbody>\n",
       "</table>\n",
       "<p>3 rows × 106 columns</p>\n",
       "</div>"
      ],
      "text/plain": [
       "    age  hours.per.week  education.num  capital.loss  capital.gain  relationship_Husband  relationship_Not-in-family  relationship_Other-relative  relationship_Own-child  relationship_Unmarried  ...  education_9th  education_Assoc-acdm  education_Assoc-voc  education_Bachelors  education_Doctorate  education_HS-grad  education_Masters  education_Preschool  education_Prof-school  education_Some-college\n",
       "0  28.0            48.0            9.0           0.0           0.0                   0.0                         0.0                          0.0                     1.0                     0.0  ...            0.0                   0.0                  0.0                  0.0                  0.0                1.0                0.0                  0.0                    0.0                     0.0\n",
       "1  24.0            50.0            4.0           0.0           0.0                   0.0                         0.0                          0.0                     1.0                     0.0  ...            0.0                   0.0                  0.0                  0.0                  0.0                0.0                0.0                  0.0                    0.0                     0.0\n",
       "2  20.0            35.0           10.0           0.0           0.0                   0.0                         0.0                          0.0                     1.0                     0.0  ...            0.0                   0.0                  0.0                  0.0                  0.0                0.0                0.0                  0.0                    0.0                     1.0\n",
       "\n",
       "[3 rows x 106 columns]"
      ]
     },
     "execution_count": 362,
     "metadata": {},
     "output_type": "execute_result"
    }
   ],
   "source": [
    "X_train.head(3)"
   ]
  },
  {
   "cell_type": "code",
   "execution_count": 363,
   "metadata": {},
   "outputs": [],
   "source": [
    "final_dataset_columns = X_train.columns.values"
   ]
  },
  {
   "cell_type": "code",
   "execution_count": 364,
   "metadata": {},
   "outputs": [
    {
     "data": {
      "text/plain": [
       "array(['age', 'hours.per.week', 'education.num', 'capital.loss',\n",
       "       'capital.gain', 'relationship_Husband',\n",
       "       'relationship_Not-in-family', 'relationship_Other-relative',\n",
       "       'relationship_Own-child', 'relationship_Unmarried',\n",
       "       'relationship_Wife', 'marital.status_Divorced',\n",
       "       'marital.status_Married-AF-spouse',\n",
       "       'marital.status_Married-civ-spouse',\n",
       "       'marital.status_Married-spouse-absent',\n",
       "       'marital.status_Never-married', 'marital.status_Separated',\n",
       "       'marital.status_Widowed', 'workclass_Federal-gov',\n",
       "       'workclass_Local-gov', 'workclass_Never-worked',\n",
       "       'workclass_Not Available', 'workclass_Private',\n",
       "       'workclass_Self-emp-inc', 'workclass_Self-emp-not-inc',\n",
       "       'workclass_State-gov', 'workclass_Without-pay',\n",
       "       'occupation_Adm-clerical', 'occupation_Armed-Forces',\n",
       "       'occupation_Craft-repair', 'occupation_Exec-managerial',\n",
       "       'occupation_Farming-fishing', 'occupation_Handlers-cleaners',\n",
       "       'occupation_Machine-op-inspct', 'occupation_Not Available',\n",
       "       'occupation_Other-service', 'occupation_Priv-house-serv',\n",
       "       'occupation_Prof-specialty', 'occupation_Protective-serv',\n",
       "       'occupation_Sales', 'occupation_Tech-support',\n",
       "       'occupation_Transport-moving', 'race_Amer-Indian-Eskimo',\n",
       "       'race_Asian-Pac-Islander', 'race_Black', 'race_Other',\n",
       "       'race_White', 'native.country_Cambodia', 'native.country_Canada',\n",
       "       'native.country_China', 'native.country_Columbia',\n",
       "       'native.country_Cuba', 'native.country_Dominican-Republic',\n",
       "       'native.country_Ecuador', 'native.country_El-Salvador',\n",
       "       'native.country_England', 'native.country_France',\n",
       "       'native.country_Germany', 'native.country_Greece',\n",
       "       'native.country_Guatemala', 'native.country_Haiti',\n",
       "       'native.country_Honduras', 'native.country_Hong',\n",
       "       'native.country_Hungary', 'native.country_India',\n",
       "       'native.country_Iran', 'native.country_Ireland',\n",
       "       'native.country_Italy', 'native.country_Jamaica',\n",
       "       'native.country_Japan', 'native.country_Laos',\n",
       "       'native.country_Mexico', 'native.country_Nicaragua',\n",
       "       'native.country_Not Available',\n",
       "       'native.country_Outlying-US(Guam-USVI-etc)', 'native.country_Peru',\n",
       "       'native.country_Philippines', 'native.country_Poland',\n",
       "       'native.country_Portugal', 'native.country_Puerto-Rico',\n",
       "       'native.country_Scotland', 'native.country_South',\n",
       "       'native.country_Taiwan', 'native.country_Thailand',\n",
       "       'native.country_Trinadad&Tobago', 'native.country_United-States',\n",
       "       'native.country_Vietnam', 'native.country_Yugoslavia',\n",
       "       'sex_Female', 'sex_Male', 'education_10th', 'education_11th',\n",
       "       'education_12th', 'education_1st-4th', 'education_5th-6th',\n",
       "       'education_7th-8th', 'education_9th', 'education_Assoc-acdm',\n",
       "       'education_Assoc-voc', 'education_Bachelors',\n",
       "       'education_Doctorate', 'education_HS-grad', 'education_Masters',\n",
       "       'education_Preschool', 'education_Prof-school',\n",
       "       'education_Some-college'], dtype=object)"
      ]
     },
     "execution_count": 364,
     "metadata": {},
     "output_type": "execute_result"
    }
   ],
   "source": [
    "final_dataset_columns"
   ]
  },
  {
   "cell_type": "markdown",
   "metadata": {},
   "source": [
    "## Apply imputation and feature encoding transformations on Test data"
   ]
  },
  {
   "cell_type": "code",
   "execution_count": 365,
   "metadata": {},
   "outputs": [
    {
     "name": "stdout",
     "output_type": "stream",
     "text": [
      "<class 'pandas.core.frame.DataFrame'>\n",
      "Int64Index: 9769 entries, 2168 to 4293\n",
      "Data columns (total 13 columns):\n",
      " #   Column          Non-Null Count  Dtype \n",
      "---  ------          --------------  ----- \n",
      " 0   relationship    9769 non-null   object\n",
      " 1   marital.status  9769 non-null   object\n",
      " 2   workclass       9228 non-null   object\n",
      " 3   occupation      9225 non-null   object\n",
      " 4   race            9769 non-null   object\n",
      " 5   age             9769 non-null   int64 \n",
      " 6   hours.per.week  9769 non-null   int64 \n",
      " 7   native.country  9590 non-null   object\n",
      " 8   sex             9769 non-null   object\n",
      " 9   education.num   9769 non-null   int64 \n",
      " 10  education       9769 non-null   object\n",
      " 11  capital.loss    9769 non-null   int64 \n",
      " 12  capital.gain    9769 non-null   int64 \n",
      "dtypes: int64(5), object(8)\n",
      "memory usage: 1.0+ MB\n"
     ]
    }
   ],
   "source": [
    "X_test.info()"
   ]
  },
  {
   "cell_type": "code",
   "execution_count": 366,
   "metadata": {},
   "outputs": [],
   "source": [
    "X_test_cat = X_test[cat_cols]\n",
    "X_test_num = X_test[num_cols]"
   ]
  },
  {
   "cell_type": "code",
   "execution_count": 367,
   "metadata": {},
   "outputs": [
    {
     "name": "stdout",
     "output_type": "stream",
     "text": [
      "<class 'pandas.core.frame.DataFrame'>\n",
      "RangeIndex: 9769 entries, 0 to 9768\n",
      "Columns: 106 entries, age to education_Some-college\n",
      "dtypes: float64(106)\n",
      "memory usage: 7.9 MB\n"
     ]
    }
   ],
   "source": [
    "X_test_cat = pd.DataFrame(cat_imputer.transform(X_test_cat), columns=cat_cols)\n",
    "X_test_cat_ohe = cat_dummy_encoder.transform(X_test_cat).toarray()\n",
    "X_test_cat_ohe = pd.DataFrame(X_test_cat_ohe, \n",
    "                               columns=cat_ohe_cols)\n",
    "\n",
    "X_test_num = pd.DataFrame(knn_imp.transform(X_test_num), columns=num_cols)\n",
    "\n",
    "X_test = pd.concat([X_test_num, X_test_cat_ohe], axis=1)\n",
    "X_test = X_test[final_dataset_columns]\n",
    "X_test.info()"
   ]
  },
  {
   "cell_type": "code",
   "execution_count": 368,
   "metadata": {},
   "outputs": [
    {
     "data": {
      "text/html": [
       "<div>\n",
       "<style scoped>\n",
       "    .dataframe tbody tr th:only-of-type {\n",
       "        vertical-align: middle;\n",
       "    }\n",
       "\n",
       "    .dataframe tbody tr th {\n",
       "        vertical-align: top;\n",
       "    }\n",
       "\n",
       "    .dataframe thead th {\n",
       "        text-align: right;\n",
       "    }\n",
       "</style>\n",
       "<table border=\"1\" class=\"dataframe\">\n",
       "  <thead>\n",
       "    <tr style=\"text-align: right;\">\n",
       "      <th></th>\n",
       "      <th>age</th>\n",
       "      <th>hours.per.week</th>\n",
       "      <th>education.num</th>\n",
       "      <th>capital.loss</th>\n",
       "      <th>capital.gain</th>\n",
       "      <th>relationship_Husband</th>\n",
       "      <th>relationship_Not-in-family</th>\n",
       "      <th>relationship_Other-relative</th>\n",
       "      <th>relationship_Own-child</th>\n",
       "      <th>relationship_Unmarried</th>\n",
       "      <th>...</th>\n",
       "      <th>education_9th</th>\n",
       "      <th>education_Assoc-acdm</th>\n",
       "      <th>education_Assoc-voc</th>\n",
       "      <th>education_Bachelors</th>\n",
       "      <th>education_Doctorate</th>\n",
       "      <th>education_HS-grad</th>\n",
       "      <th>education_Masters</th>\n",
       "      <th>education_Preschool</th>\n",
       "      <th>education_Prof-school</th>\n",
       "      <th>education_Some-college</th>\n",
       "    </tr>\n",
       "  </thead>\n",
       "  <tbody>\n",
       "    <tr>\n",
       "      <th>0</th>\n",
       "      <td>51.0</td>\n",
       "      <td>50.0</td>\n",
       "      <td>13.0</td>\n",
       "      <td>0.0</td>\n",
       "      <td>14084.0</td>\n",
       "      <td>0.0</td>\n",
       "      <td>1.0</td>\n",
       "      <td>0.0</td>\n",
       "      <td>0.0</td>\n",
       "      <td>0.0</td>\n",
       "      <td>...</td>\n",
       "      <td>0.0</td>\n",
       "      <td>0.0</td>\n",
       "      <td>0.0</td>\n",
       "      <td>1.0</td>\n",
       "      <td>0.0</td>\n",
       "      <td>0.0</td>\n",
       "      <td>0.0</td>\n",
       "      <td>0.0</td>\n",
       "      <td>0.0</td>\n",
       "      <td>0.0</td>\n",
       "    </tr>\n",
       "    <tr>\n",
       "      <th>1</th>\n",
       "      <td>48.0</td>\n",
       "      <td>20.0</td>\n",
       "      <td>13.0</td>\n",
       "      <td>0.0</td>\n",
       "      <td>0.0</td>\n",
       "      <td>0.0</td>\n",
       "      <td>0.0</td>\n",
       "      <td>0.0</td>\n",
       "      <td>0.0</td>\n",
       "      <td>1.0</td>\n",
       "      <td>...</td>\n",
       "      <td>0.0</td>\n",
       "      <td>0.0</td>\n",
       "      <td>0.0</td>\n",
       "      <td>1.0</td>\n",
       "      <td>0.0</td>\n",
       "      <td>0.0</td>\n",
       "      <td>0.0</td>\n",
       "      <td>0.0</td>\n",
       "      <td>0.0</td>\n",
       "      <td>0.0</td>\n",
       "    </tr>\n",
       "    <tr>\n",
       "      <th>2</th>\n",
       "      <td>65.0</td>\n",
       "      <td>30.0</td>\n",
       "      <td>9.0</td>\n",
       "      <td>0.0</td>\n",
       "      <td>0.0</td>\n",
       "      <td>1.0</td>\n",
       "      <td>0.0</td>\n",
       "      <td>0.0</td>\n",
       "      <td>0.0</td>\n",
       "      <td>0.0</td>\n",
       "      <td>...</td>\n",
       "      <td>0.0</td>\n",
       "      <td>0.0</td>\n",
       "      <td>0.0</td>\n",
       "      <td>0.0</td>\n",
       "      <td>0.0</td>\n",
       "      <td>1.0</td>\n",
       "      <td>0.0</td>\n",
       "      <td>0.0</td>\n",
       "      <td>0.0</td>\n",
       "      <td>0.0</td>\n",
       "    </tr>\n",
       "  </tbody>\n",
       "</table>\n",
       "<p>3 rows × 106 columns</p>\n",
       "</div>"
      ],
      "text/plain": [
       "    age  hours.per.week  education.num  capital.loss  capital.gain  relationship_Husband  relationship_Not-in-family  relationship_Other-relative  relationship_Own-child  relationship_Unmarried  ...  education_9th  education_Assoc-acdm  education_Assoc-voc  education_Bachelors  education_Doctorate  education_HS-grad  education_Masters  education_Preschool  education_Prof-school  education_Some-college\n",
       "0  51.0            50.0           13.0           0.0       14084.0                   0.0                         1.0                          0.0                     0.0                     0.0  ...            0.0                   0.0                  0.0                  1.0                  0.0                0.0                0.0                  0.0                    0.0                     0.0\n",
       "1  48.0            20.0           13.0           0.0           0.0                   0.0                         0.0                          0.0                     0.0                     1.0  ...            0.0                   0.0                  0.0                  1.0                  0.0                0.0                0.0                  0.0                    0.0                     0.0\n",
       "2  65.0            30.0            9.0           0.0           0.0                   1.0                         0.0                          0.0                     0.0                     0.0  ...            0.0                   0.0                  0.0                  0.0                  0.0                1.0                0.0                  0.0                    0.0                     0.0\n",
       "\n",
       "[3 rows x 106 columns]"
      ]
     },
     "execution_count": 368,
     "metadata": {},
     "output_type": "execute_result"
    }
   ],
   "source": [
    "X_test.head(3)"
   ]
  },
  {
   "cell_type": "markdown",
   "metadata": {},
   "source": [
    "# Train and Tune ML Model"
   ]
  },
  {
   "cell_type": "markdown",
   "metadata": {},
   "source": [
    "Here we stick to just using a state-of-the-art XGBoost Classifier though you are welcome to try more models. Do note we do NOT involve the test dataset at all during the training or tuning process"
   ]
  },
  {
   "cell_type": "markdown",
   "metadata": {},
   "source": [
    "## Simple 5-fold Cross Validation"
   ]
  },
  {
   "cell_type": "code",
   "execution_count": 60,
   "metadata": {},
   "outputs": [
    {
     "name": "stderr",
     "output_type": "stream",
     "text": [
      "/opt/conda/lib/python3.8/site-packages/xgboost/sklearn.py:1146: UserWarning: The use of label encoder in XGBClassifier is deprecated and will be removed in a future release. To remove this warning, do the following: 1) Pass option use_label_encoder=False when constructing XGBClassifier object; and 2) Encode your labels (y) as integers starting with 0, i.e. 0, 1, 2, ..., [num_class - 1].\n",
      "  warnings.warn(label_encoder_deprecation_msg, UserWarning)\n"
     ]
    },
    {
     "name": "stdout",
     "output_type": "stream",
     "text": [
      "[09:16:28] WARNING: ../src/learner.cc:1095: Starting in XGBoost 1.3.0, the default evaluation metric used with the objective 'binary:logistic' was changed from 'error' to 'logloss'. Explicitly set eval_metric if you'd like to restore the old behavior.\n"
     ]
    },
    {
     "name": "stderr",
     "output_type": "stream",
     "text": [
      "/opt/conda/lib/python3.8/site-packages/xgboost/data.py:112: UserWarning: Use subset (sliced data) of np.ndarray is not recommended because it will generate extra copies and increase memory consumption\n",
      "  warnings.warn(\n"
     ]
    },
    {
     "name": "stdout",
     "output_type": "stream",
     "text": [
      "[09:16:32] WARNING: ../src/learner.cc:1095: Starting in XGBoost 1.3.0, the default evaluation metric used with the objective 'binary:logistic' was changed from 'error' to 'logloss'. Explicitly set eval_metric if you'd like to restore the old behavior.\n",
      "[09:16:35] WARNING: ../src/learner.cc:1095: Starting in XGBoost 1.3.0, the default evaluation metric used with the objective 'binary:logistic' was changed from 'error' to 'logloss'. Explicitly set eval_metric if you'd like to restore the old behavior.\n",
      "[09:16:39] WARNING: ../src/learner.cc:1095: Starting in XGBoost 1.3.0, the default evaluation metric used with the objective 'binary:logistic' was changed from 'error' to 'logloss'. Explicitly set eval_metric if you'd like to restore the old behavior.\n",
      "[09:16:43] WARNING: ../src/learner.cc:1095: Starting in XGBoost 1.3.0, the default evaluation metric used with the objective 'binary:logistic' was changed from 'error' to 'logloss'. Explicitly set eval_metric if you'd like to restore the old behavior.\n"
     ]
    },
    {
     "data": {
      "text/plain": [
       "array([0.87343716, 0.87255977, 0.87209302, 0.87823607, 0.85870996])"
      ]
     },
     "execution_count": 60,
     "metadata": {},
     "output_type": "execute_result"
    }
   ],
   "source": [
    "from sklearn.model_selection import cross_val_score\n",
    "\n",
    "xgc = xgb.XGBClassifier()\n",
    "cross_val_score(xgc, X_train, y_train, cv=5)"
   ]
  },
  {
   "cell_type": "markdown",
   "metadata": {},
   "source": [
    "## Train and Tune XGBoost Classifier with Randomized Search + K-fold"
   ]
  },
  {
   "cell_type": "code",
   "execution_count": 79,
   "metadata": {},
   "outputs": [
    {
     "name": "stdout",
     "output_type": "stream",
     "text": [
      "Fitting 5 folds for each of 15 candidates, totalling 75 fits\n"
     ]
    },
    {
     "name": "stderr",
     "output_type": "stream",
     "text": [
      "[Parallel(n_jobs=-1)]: Using backend LokyBackend with 2 concurrent workers.\n",
      "[Parallel(n_jobs=-1)]: Done  28 tasks      | elapsed: 12.7min\n",
      "[Parallel(n_jobs=-1)]: Done  75 out of  75 | elapsed: 39.2min finished\n",
      "/opt/conda/lib/python3.8/site-packages/xgboost/sklearn.py:1146: UserWarning: The use of label encoder in XGBClassifier is deprecated and will be removed in a future release. To remove this warning, do the following: 1) Pass option use_label_encoder=False when constructing XGBClassifier object; and 2) Encode your labels (y) as integers starting with 0, i.e. 0, 1, 2, ..., [num_class - 1].\n",
      "  warnings.warn(label_encoder_deprecation_msg, UserWarning)\n"
     ]
    },
    {
     "name": "stdout",
     "output_type": "stream",
     "text": [
      "[10:31:56] WARNING: ../src/learner.cc:1095: Starting in XGBoost 1.3.0, the default evaluation metric used with the objective 'binary:logistic' was changed from 'error' to 'logloss'. Explicitly set eval_metric if you'd like to restore the old behavior.\n"
     ]
    }
   ],
   "source": [
    "from sklearn.model_selection import RandomizedSearchCV\n",
    "from sklearn.metrics import f1_score\n",
    "param_grid = {\n",
    "    'n_estimators': [50, 100, 200, 300, 400, 500, 600, 700, 800, 900, 1000, 1200, 1500],\n",
    "    'learning_rate': stats.uniform(0.01, 0.3).rvs(15),\n",
    "    'max_depth': [3, 5, 7, 9, 15, None]             \n",
    "}\n",
    "\n",
    "def f1_scorer(clf, X, y):\n",
    "    y_pred = clf.predict(X)\n",
    "    return f1_score(y, y_pred, pos_label='>50K')\n",
    "    \n",
    "xgc = xgb.XGBClassifier()\n",
    "\n",
    "clf = RandomizedSearchCV(estimator=xgc, \n",
    "                         param_distributions=param_grid,\n",
    "                         cv= 5,  \n",
    "                         n_iter=15, \n",
    "                         scoring = f1_scorer, \n",
    "                         verbose = 3, \n",
    "                         n_jobs = -1)\n",
    "\n",
    "search = clf.fit(X_train, y_train)"
   ]
  },
  {
   "cell_type": "code",
   "execution_count": 85,
   "metadata": {},
   "outputs": [
    {
     "data": {
      "text/html": [
       "<div>\n",
       "<style scoped>\n",
       "    .dataframe tbody tr th:only-of-type {\n",
       "        vertical-align: middle;\n",
       "    }\n",
       "\n",
       "    .dataframe tbody tr th {\n",
       "        vertical-align: top;\n",
       "    }\n",
       "\n",
       "    .dataframe thead th {\n",
       "        text-align: right;\n",
       "    }\n",
       "</style>\n",
       "<table border=\"1\" class=\"dataframe\">\n",
       "  <thead>\n",
       "    <tr style=\"text-align: right;\">\n",
       "      <th></th>\n",
       "      <th>params</th>\n",
       "      <th>rank_test_score</th>\n",
       "      <th>mean_test_score</th>\n",
       "      <th>std_test_score</th>\n",
       "      <th>split0_test_score</th>\n",
       "      <th>split1_test_score</th>\n",
       "      <th>split2_test_score</th>\n",
       "      <th>split3_test_score</th>\n",
       "      <th>split4_test_score</th>\n",
       "    </tr>\n",
       "  </thead>\n",
       "  <tbody>\n",
       "    <tr>\n",
       "      <th>13</th>\n",
       "      <td>{'n_estimators': 600, 'max_depth': 3, 'learning_rate': 0.12188470309348745}</td>\n",
       "      <td>1</td>\n",
       "      <td>0.714561</td>\n",
       "      <td>0.012794</td>\n",
       "      <td>0.725394</td>\n",
       "      <td>0.713217</td>\n",
       "      <td>0.709904</td>\n",
       "      <td>0.730392</td>\n",
       "      <td>0.693898</td>\n",
       "    </tr>\n",
       "    <tr>\n",
       "      <th>4</th>\n",
       "      <td>{'n_estimators': 100, 'max_depth': 9, 'learning_rate': 0.16902596088334138}</td>\n",
       "      <td>2</td>\n",
       "      <td>0.713772</td>\n",
       "      <td>0.016112</td>\n",
       "      <td>0.725767</td>\n",
       "      <td>0.714004</td>\n",
       "      <td>0.711814</td>\n",
       "      <td>0.732064</td>\n",
       "      <td>0.685212</td>\n",
       "    </tr>\n",
       "    <tr>\n",
       "      <th>11</th>\n",
       "      <td>{'n_estimators': 200, 'max_depth': 7, 'learning_rate': 0.15395564899591388}</td>\n",
       "      <td>3</td>\n",
       "      <td>0.713389</td>\n",
       "      <td>0.016381</td>\n",
       "      <td>0.724878</td>\n",
       "      <td>0.710957</td>\n",
       "      <td>0.716330</td>\n",
       "      <td>0.731088</td>\n",
       "      <td>0.683694</td>\n",
       "    </tr>\n",
       "    <tr>\n",
       "      <th>9</th>\n",
       "      <td>{'n_estimators': 1200, 'max_depth': 5, 'learning_rate': 0.01136783306512155}</td>\n",
       "      <td>4</td>\n",
       "      <td>0.712899</td>\n",
       "      <td>0.009393</td>\n",
       "      <td>0.721670</td>\n",
       "      <td>0.708144</td>\n",
       "      <td>0.709904</td>\n",
       "      <td>0.725275</td>\n",
       "      <td>0.699502</td>\n",
       "    </tr>\n",
       "    <tr>\n",
       "      <th>0</th>\n",
       "      <td>{'n_estimators': 400, 'max_depth': None, 'learning_rate': 0.1510725187028566}</td>\n",
       "      <td>5</td>\n",
       "      <td>0.712244</td>\n",
       "      <td>0.016468</td>\n",
       "      <td>0.721280</td>\n",
       "      <td>0.713163</td>\n",
       "      <td>0.714567</td>\n",
       "      <td>0.730527</td>\n",
       "      <td>0.681685</td>\n",
       "    </tr>\n",
       "    <tr>\n",
       "      <th>2</th>\n",
       "      <td>{'n_estimators': 1000, 'max_depth': 3, 'learning_rate': 0.12188470309348745}</td>\n",
       "      <td>6</td>\n",
       "      <td>0.712030</td>\n",
       "      <td>0.013671</td>\n",
       "      <td>0.719882</td>\n",
       "      <td>0.709806</td>\n",
       "      <td>0.714499</td>\n",
       "      <td>0.728341</td>\n",
       "      <td>0.687623</td>\n",
       "    </tr>\n",
       "    <tr>\n",
       "      <th>12</th>\n",
       "      <td>{'n_estimators': 400, 'max_depth': 5, 'learning_rate': 0.21729298730485747}</td>\n",
       "      <td>7</td>\n",
       "      <td>0.707518</td>\n",
       "      <td>0.018718</td>\n",
       "      <td>0.723754</td>\n",
       "      <td>0.703795</td>\n",
       "      <td>0.701928</td>\n",
       "      <td>0.730695</td>\n",
       "      <td>0.677419</td>\n",
       "    </tr>\n",
       "    <tr>\n",
       "      <th>6</th>\n",
       "      <td>{'n_estimators': 200, 'max_depth': 7, 'learning_rate': 0.2944068816754488}</td>\n",
       "      <td>8</td>\n",
       "      <td>0.706520</td>\n",
       "      <td>0.016961</td>\n",
       "      <td>0.721629</td>\n",
       "      <td>0.709804</td>\n",
       "      <td>0.704958</td>\n",
       "      <td>0.721075</td>\n",
       "      <td>0.675134</td>\n",
       "    </tr>\n",
       "    <tr>\n",
       "      <th>1</th>\n",
       "      <td>{'n_estimators': 400, 'max_depth': 9, 'learning_rate': 0.12188470309348745}</td>\n",
       "      <td>9</td>\n",
       "      <td>0.704709</td>\n",
       "      <td>0.015993</td>\n",
       "      <td>0.723754</td>\n",
       "      <td>0.704102</td>\n",
       "      <td>0.701172</td>\n",
       "      <td>0.717162</td>\n",
       "      <td>0.677357</td>\n",
       "    </tr>\n",
       "    <tr>\n",
       "      <th>10</th>\n",
       "      <td>{'n_estimators': 1500, 'max_depth': None, 'learning_rate': 0.15395564899591388}</td>\n",
       "      <td>10</td>\n",
       "      <td>0.699198</td>\n",
       "      <td>0.018552</td>\n",
       "      <td>0.717726</td>\n",
       "      <td>0.695946</td>\n",
       "      <td>0.697203</td>\n",
       "      <td>0.717803</td>\n",
       "      <td>0.667310</td>\n",
       "    </tr>\n",
       "    <tr>\n",
       "      <th>14</th>\n",
       "      <td>{'n_estimators': 50, 'max_depth': 5, 'learning_rate': 0.1510725187028566}</td>\n",
       "      <td>11</td>\n",
       "      <td>0.698541</td>\n",
       "      <td>0.008263</td>\n",
       "      <td>0.709191</td>\n",
       "      <td>0.695697</td>\n",
       "      <td>0.690928</td>\n",
       "      <td>0.707441</td>\n",
       "      <td>0.689447</td>\n",
       "    </tr>\n",
       "    <tr>\n",
       "      <th>5</th>\n",
       "      <td>{'n_estimators': 1000, 'max_depth': 15, 'learning_rate': 0.040562072306796225}</td>\n",
       "      <td>12</td>\n",
       "      <td>0.691989</td>\n",
       "      <td>0.016697</td>\n",
       "      <td>0.702231</td>\n",
       "      <td>0.700146</td>\n",
       "      <td>0.696325</td>\n",
       "      <td>0.702364</td>\n",
       "      <td>0.658881</td>\n",
       "    </tr>\n",
       "    <tr>\n",
       "      <th>3</th>\n",
       "      <td>{'n_estimators': 50, 'max_depth': 3, 'learning_rate': 0.2554440883764934}</td>\n",
       "      <td>13</td>\n",
       "      <td>0.691975</td>\n",
       "      <td>0.009474</td>\n",
       "      <td>0.705584</td>\n",
       "      <td>0.685015</td>\n",
       "      <td>0.682499</td>\n",
       "      <td>0.701179</td>\n",
       "      <td>0.685598</td>\n",
       "    </tr>\n",
       "    <tr>\n",
       "      <th>7</th>\n",
       "      <td>{'n_estimators': 300, 'max_depth': 15, 'learning_rate': 0.13589559390480993}</td>\n",
       "      <td>14</td>\n",
       "      <td>0.688913</td>\n",
       "      <td>0.017041</td>\n",
       "      <td>0.698749</td>\n",
       "      <td>0.690223</td>\n",
       "      <td>0.699038</td>\n",
       "      <td>0.700912</td>\n",
       "      <td>0.655642</td>\n",
       "    </tr>\n",
       "    <tr>\n",
       "      <th>8</th>\n",
       "      <td>{'n_estimators': 1000, 'max_depth': 15, 'learning_rate': 0.1270825778387063}</td>\n",
       "      <td>15</td>\n",
       "      <td>0.676237</td>\n",
       "      <td>0.019930</td>\n",
       "      <td>0.682464</td>\n",
       "      <td>0.678520</td>\n",
       "      <td>0.684957</td>\n",
       "      <td>0.696927</td>\n",
       "      <td>0.638318</td>\n",
       "    </tr>\n",
       "  </tbody>\n",
       "</table>\n",
       "</div>"
      ],
      "text/plain": [
       "                                                                             params  rank_test_score  mean_test_score  std_test_score  split0_test_score  split1_test_score  split2_test_score  split3_test_score  split4_test_score\n",
       "13      {'n_estimators': 600, 'max_depth': 3, 'learning_rate': 0.12188470309348745}                1         0.714561        0.012794           0.725394           0.713217           0.709904           0.730392           0.693898\n",
       "4       {'n_estimators': 100, 'max_depth': 9, 'learning_rate': 0.16902596088334138}                2         0.713772        0.016112           0.725767           0.714004           0.711814           0.732064           0.685212\n",
       "11      {'n_estimators': 200, 'max_depth': 7, 'learning_rate': 0.15395564899591388}                3         0.713389        0.016381           0.724878           0.710957           0.716330           0.731088           0.683694\n",
       "9      {'n_estimators': 1200, 'max_depth': 5, 'learning_rate': 0.01136783306512155}                4         0.712899        0.009393           0.721670           0.708144           0.709904           0.725275           0.699502\n",
       "0     {'n_estimators': 400, 'max_depth': None, 'learning_rate': 0.1510725187028566}                5         0.712244        0.016468           0.721280           0.713163           0.714567           0.730527           0.681685\n",
       "2      {'n_estimators': 1000, 'max_depth': 3, 'learning_rate': 0.12188470309348745}                6         0.712030        0.013671           0.719882           0.709806           0.714499           0.728341           0.687623\n",
       "12      {'n_estimators': 400, 'max_depth': 5, 'learning_rate': 0.21729298730485747}                7         0.707518        0.018718           0.723754           0.703795           0.701928           0.730695           0.677419\n",
       "6        {'n_estimators': 200, 'max_depth': 7, 'learning_rate': 0.2944068816754488}                8         0.706520        0.016961           0.721629           0.709804           0.704958           0.721075           0.675134\n",
       "1       {'n_estimators': 400, 'max_depth': 9, 'learning_rate': 0.12188470309348745}                9         0.704709        0.015993           0.723754           0.704102           0.701172           0.717162           0.677357\n",
       "10  {'n_estimators': 1500, 'max_depth': None, 'learning_rate': 0.15395564899591388}               10         0.699198        0.018552           0.717726           0.695946           0.697203           0.717803           0.667310\n",
       "14        {'n_estimators': 50, 'max_depth': 5, 'learning_rate': 0.1510725187028566}               11         0.698541        0.008263           0.709191           0.695697           0.690928           0.707441           0.689447\n",
       "5    {'n_estimators': 1000, 'max_depth': 15, 'learning_rate': 0.040562072306796225}               12         0.691989        0.016697           0.702231           0.700146           0.696325           0.702364           0.658881\n",
       "3         {'n_estimators': 50, 'max_depth': 3, 'learning_rate': 0.2554440883764934}               13         0.691975        0.009474           0.705584           0.685015           0.682499           0.701179           0.685598\n",
       "7      {'n_estimators': 300, 'max_depth': 15, 'learning_rate': 0.13589559390480993}               14         0.688913        0.017041           0.698749           0.690223           0.699038           0.700912           0.655642\n",
       "8      {'n_estimators': 1000, 'max_depth': 15, 'learning_rate': 0.1270825778387063}               15         0.676237        0.019930           0.682464           0.678520           0.684957           0.696927           0.638318"
      ]
     },
     "execution_count": 85,
     "metadata": {},
     "output_type": "execute_result"
    }
   ],
   "source": [
    "pd.set_option('max_colwidth', None)\n",
    "results = pd.DataFrame(search.cv_results_)\n",
    "results = results[['params', 'rank_test_score', 'mean_test_score', 'std_test_score', \n",
    "                   'split0_test_score', 'split1_test_score', 'split2_test_score', 'split3_test_score', 'split4_test_score']].sort_values(by=['rank_test_score'])\n",
    "results"
   ]
  },
  {
   "cell_type": "code",
   "execution_count": 86,
   "metadata": {},
   "outputs": [
    {
     "data": {
      "text/plain": [
       "XGBClassifier(base_score=0.5, booster='gbtree', colsample_bylevel=1,\n",
       "              colsample_bynode=1, colsample_bytree=1, gamma=0, gpu_id=-1,\n",
       "              importance_type='gain', interaction_constraints='',\n",
       "              learning_rate=0.12188470309348745, max_delta_step=0, max_depth=3,\n",
       "              min_child_weight=1, missing=nan, monotone_constraints='()',\n",
       "              n_estimators=600, n_jobs=2, num_parallel_tree=1, random_state=0,\n",
       "              reg_alpha=0, reg_lambda=1, scale_pos_weight=1, subsample=1,\n",
       "              tree_method='exact', validate_parameters=1, verbosity=None)"
      ]
     },
     "execution_count": 86,
     "metadata": {},
     "output_type": "execute_result"
    }
   ],
   "source": [
    "search.best_estimator_"
   ]
  },
  {
   "cell_type": "markdown",
   "metadata": {},
   "source": [
    "## Train and futher fine-tune XGBoost Classifier with Grid Search + K-fold"
   ]
  },
  {
   "cell_type": "code",
   "execution_count": 90,
   "metadata": {},
   "outputs": [
    {
     "name": "stdout",
     "output_type": "stream",
     "text": [
      "Fitting 5 folds for each of 27 candidates, totalling 135 fits\n"
     ]
    },
    {
     "name": "stderr",
     "output_type": "stream",
     "text": [
      "[Parallel(n_jobs=-1)]: Using backend LokyBackend with 2 concurrent workers.\n",
      "[Parallel(n_jobs=-1)]: Done  28 tasks      | elapsed:  8.3min\n",
      "[Parallel(n_jobs=-1)]: Done 124 tasks      | elapsed: 42.8min\n",
      "[Parallel(n_jobs=-1)]: Done 135 out of 135 | elapsed: 48.0min finished\n",
      "/opt/conda/lib/python3.8/site-packages/xgboost/sklearn.py:1146: UserWarning: The use of label encoder in XGBClassifier is deprecated and will be removed in a future release. To remove this warning, do the following: 1) Pass option use_label_encoder=False when constructing XGBClassifier object; and 2) Encode your labels (y) as integers starting with 0, i.e. 0, 1, 2, ..., [num_class - 1].\n",
      "  warnings.warn(label_encoder_deprecation_msg, UserWarning)\n"
     ]
    },
    {
     "name": "stdout",
     "output_type": "stream",
     "text": [
      "[11:37:21] WARNING: ../src/learner.cc:1095: Starting in XGBoost 1.3.0, the default evaluation metric used with the objective 'binary:logistic' was changed from 'error' to 'logloss'. Explicitly set eval_metric if you'd like to restore the old behavior.\n"
     ]
    }
   ],
   "source": [
    "from sklearn.model_selection import GridSearchCV\n",
    "\n",
    "param_grid = {\n",
    "    'n_estimators': [550, 600, 650],\n",
    "    'learning_rate': [0.10, 0.12, 0.13],\n",
    "    'max_depth': [3, 5, 7]             \n",
    "}\n",
    "\n",
    "    \n",
    "xgc = xgb.XGBClassifier()\n",
    "\n",
    "clf = GridSearchCV(estimator=xgc, \n",
    "                   param_grid=param_grid,\n",
    "                   cv= 5,  \n",
    "                   scoring = f1_scorer, \n",
    "                   verbose = 3, \n",
    "                   n_jobs = -1)\n",
    "\n",
    "search2 = clf.fit(X_train, y_train)"
   ]
  },
  {
   "cell_type": "markdown",
   "metadata": {},
   "source": [
    "While running the above tuning processes, it is definitely memory and compute intensive and you can see the debug outputs on your terminal. Sample output is depicted in the screengrab below.\n",
    "\n",
    "![](https://i.imgur.com/dhE0Zmj.png)"
   ]
  },
  {
   "cell_type": "code",
   "execution_count": 91,
   "metadata": {},
   "outputs": [
    {
     "data": {
      "text/html": [
       "<div>\n",
       "<style scoped>\n",
       "    .dataframe tbody tr th:only-of-type {\n",
       "        vertical-align: middle;\n",
       "    }\n",
       "\n",
       "    .dataframe tbody tr th {\n",
       "        vertical-align: top;\n",
       "    }\n",
       "\n",
       "    .dataframe thead th {\n",
       "        text-align: right;\n",
       "    }\n",
       "</style>\n",
       "<table border=\"1\" class=\"dataframe\">\n",
       "  <thead>\n",
       "    <tr style=\"text-align: right;\">\n",
       "      <th></th>\n",
       "      <th>params</th>\n",
       "      <th>rank_test_score</th>\n",
       "      <th>mean_test_score</th>\n",
       "      <th>std_test_score</th>\n",
       "      <th>split0_test_score</th>\n",
       "      <th>split1_test_score</th>\n",
       "      <th>split2_test_score</th>\n",
       "      <th>split3_test_score</th>\n",
       "      <th>split4_test_score</th>\n",
       "    </tr>\n",
       "  </thead>\n",
       "  <tbody>\n",
       "    <tr>\n",
       "      <th>0</th>\n",
       "      <td>{'learning_rate': 0.1, 'max_depth': 3, 'n_estimators': 550}</td>\n",
       "      <td>1</td>\n",
       "      <td>0.716646</td>\n",
       "      <td>0.013763</td>\n",
       "      <td>0.728713</td>\n",
       "      <td>0.711644</td>\n",
       "      <td>0.715285</td>\n",
       "      <td>0.733268</td>\n",
       "      <td>0.694321</td>\n",
       "    </tr>\n",
       "    <tr>\n",
       "      <th>2</th>\n",
       "      <td>{'learning_rate': 0.1, 'max_depth': 3, 'n_estimators': 650}</td>\n",
       "      <td>2</td>\n",
       "      <td>0.716350</td>\n",
       "      <td>0.013634</td>\n",
       "      <td>0.729423</td>\n",
       "      <td>0.712288</td>\n",
       "      <td>0.713147</td>\n",
       "      <td>0.732353</td>\n",
       "      <td>0.694540</td>\n",
       "    </tr>\n",
       "    <tr>\n",
       "      <th>19</th>\n",
       "      <td>{'learning_rate': 0.13, 'max_depth': 3, 'n_estimators': 600}</td>\n",
       "      <td>3</td>\n",
       "      <td>0.716160</td>\n",
       "      <td>0.014316</td>\n",
       "      <td>0.729146</td>\n",
       "      <td>0.711577</td>\n",
       "      <td>0.712425</td>\n",
       "      <td>0.733954</td>\n",
       "      <td>0.693698</td>\n",
       "    </tr>\n",
       "    <tr>\n",
       "      <th>18</th>\n",
       "      <td>{'learning_rate': 0.13, 'max_depth': 3, 'n_estimators': 550}</td>\n",
       "      <td>4</td>\n",
       "      <td>0.715689</td>\n",
       "      <td>0.014987</td>\n",
       "      <td>0.730750</td>\n",
       "      <td>0.712425</td>\n",
       "      <td>0.710777</td>\n",
       "      <td>0.732712</td>\n",
       "      <td>0.691781</td>\n",
       "    </tr>\n",
       "    <tr>\n",
       "      <th>9</th>\n",
       "      <td>{'learning_rate': 0.12, 'max_depth': 3, 'n_estimators': 550}</td>\n",
       "      <td>5</td>\n",
       "      <td>0.715433</td>\n",
       "      <td>0.012113</td>\n",
       "      <td>0.727720</td>\n",
       "      <td>0.713643</td>\n",
       "      <td>0.708963</td>\n",
       "      <td>0.729690</td>\n",
       "      <td>0.697148</td>\n",
       "    </tr>\n",
       "    <tr>\n",
       "      <th>1</th>\n",
       "      <td>{'learning_rate': 0.1, 'max_depth': 3, 'n_estimators': 600}</td>\n",
       "      <td>6</td>\n",
       "      <td>0.715136</td>\n",
       "      <td>0.013155</td>\n",
       "      <td>0.726733</td>\n",
       "      <td>0.710934</td>\n",
       "      <td>0.713573</td>\n",
       "      <td>0.730845</td>\n",
       "      <td>0.693596</td>\n",
       "    </tr>\n",
       "    <tr>\n",
       "      <th>11</th>\n",
       "      <td>{'learning_rate': 0.12, 'max_depth': 3, 'n_estimators': 650}</td>\n",
       "      <td>7</td>\n",
       "      <td>0.714854</td>\n",
       "      <td>0.011437</td>\n",
       "      <td>0.724595</td>\n",
       "      <td>0.714571</td>\n",
       "      <td>0.711111</td>\n",
       "      <td>0.728256</td>\n",
       "      <td>0.695737</td>\n",
       "    </tr>\n",
       "    <tr>\n",
       "      <th>20</th>\n",
       "      <td>{'learning_rate': 0.13, 'max_depth': 3, 'n_estimators': 650}</td>\n",
       "      <td>8</td>\n",
       "      <td>0.714509</td>\n",
       "      <td>0.013378</td>\n",
       "      <td>0.725672</td>\n",
       "      <td>0.712575</td>\n",
       "      <td>0.712425</td>\n",
       "      <td>0.730128</td>\n",
       "      <td>0.691744</td>\n",
       "    </tr>\n",
       "    <tr>\n",
       "      <th>10</th>\n",
       "      <td>{'learning_rate': 0.12, 'max_depth': 3, 'n_estimators': 600}</td>\n",
       "      <td>9</td>\n",
       "      <td>0.714305</td>\n",
       "      <td>0.012803</td>\n",
       "      <td>0.726115</td>\n",
       "      <td>0.714286</td>\n",
       "      <td>0.707071</td>\n",
       "      <td>0.729597</td>\n",
       "      <td>0.694458</td>\n",
       "    </tr>\n",
       "    <tr>\n",
       "      <th>3</th>\n",
       "      <td>{'learning_rate': 0.1, 'max_depth': 5, 'n_estimators': 550}</td>\n",
       "      <td>10</td>\n",
       "      <td>0.712661</td>\n",
       "      <td>0.016513</td>\n",
       "      <td>0.724004</td>\n",
       "      <td>0.708105</td>\n",
       "      <td>0.711814</td>\n",
       "      <td>0.734140</td>\n",
       "      <td>0.685239</td>\n",
       "    </tr>\n",
       "    <tr>\n",
       "      <th>4</th>\n",
       "      <td>{'learning_rate': 0.1, 'max_depth': 5, 'n_estimators': 600}</td>\n",
       "      <td>11</td>\n",
       "      <td>0.712125</td>\n",
       "      <td>0.016269</td>\n",
       "      <td>0.723032</td>\n",
       "      <td>0.709199</td>\n",
       "      <td>0.712383</td>\n",
       "      <td>0.732108</td>\n",
       "      <td>0.683902</td>\n",
       "    </tr>\n",
       "    <tr>\n",
       "      <th>5</th>\n",
       "      <td>{'learning_rate': 0.1, 'max_depth': 5, 'n_estimators': 650}</td>\n",
       "      <td>12</td>\n",
       "      <td>0.711724</td>\n",
       "      <td>0.016841</td>\n",
       "      <td>0.724624</td>\n",
       "      <td>0.710059</td>\n",
       "      <td>0.712032</td>\n",
       "      <td>0.730266</td>\n",
       "      <td>0.681641</td>\n",
       "    </tr>\n",
       "    <tr>\n",
       "      <th>13</th>\n",
       "      <td>{'learning_rate': 0.12, 'max_depth': 5, 'n_estimators': 600}</td>\n",
       "      <td>13</td>\n",
       "      <td>0.711170</td>\n",
       "      <td>0.017129</td>\n",
       "      <td>0.724539</td>\n",
       "      <td>0.706173</td>\n",
       "      <td>0.712598</td>\n",
       "      <td>0.730900</td>\n",
       "      <td>0.681641</td>\n",
       "    </tr>\n",
       "    <tr>\n",
       "      <th>14</th>\n",
       "      <td>{'learning_rate': 0.12, 'max_depth': 5, 'n_estimators': 650}</td>\n",
       "      <td>14</td>\n",
       "      <td>0.711146</td>\n",
       "      <td>0.016173</td>\n",
       "      <td>0.723837</td>\n",
       "      <td>0.708148</td>\n",
       "      <td>0.712949</td>\n",
       "      <td>0.728509</td>\n",
       "      <td>0.682284</td>\n",
       "    </tr>\n",
       "    <tr>\n",
       "      <th>12</th>\n",
       "      <td>{'learning_rate': 0.12, 'max_depth': 5, 'n_estimators': 550}</td>\n",
       "      <td>15</td>\n",
       "      <td>0.711021</td>\n",
       "      <td>0.016724</td>\n",
       "      <td>0.725073</td>\n",
       "      <td>0.706173</td>\n",
       "      <td>0.712666</td>\n",
       "      <td>0.729217</td>\n",
       "      <td>0.681974</td>\n",
       "    </tr>\n",
       "    <tr>\n",
       "      <th>6</th>\n",
       "      <td>{'learning_rate': 0.1, 'max_depth': 7, 'n_estimators': 550}</td>\n",
       "      <td>16</td>\n",
       "      <td>0.710425</td>\n",
       "      <td>0.020318</td>\n",
       "      <td>0.732299</td>\n",
       "      <td>0.706345</td>\n",
       "      <td>0.704446</td>\n",
       "      <td>0.731566</td>\n",
       "      <td>0.677467</td>\n",
       "    </tr>\n",
       "    <tr>\n",
       "      <th>22</th>\n",
       "      <td>{'learning_rate': 0.13, 'max_depth': 5, 'n_estimators': 600}</td>\n",
       "      <td>17</td>\n",
       "      <td>0.709619</td>\n",
       "      <td>0.016953</td>\n",
       "      <td>0.724539</td>\n",
       "      <td>0.706991</td>\n",
       "      <td>0.707843</td>\n",
       "      <td>0.728329</td>\n",
       "      <td>0.680392</td>\n",
       "    </tr>\n",
       "    <tr>\n",
       "      <th>23</th>\n",
       "      <td>{'learning_rate': 0.13, 'max_depth': 5, 'n_estimators': 650}</td>\n",
       "      <td>18</td>\n",
       "      <td>0.709208</td>\n",
       "      <td>0.016201</td>\n",
       "      <td>0.721899</td>\n",
       "      <td>0.707341</td>\n",
       "      <td>0.707783</td>\n",
       "      <td>0.727977</td>\n",
       "      <td>0.681039</td>\n",
       "    </tr>\n",
       "    <tr>\n",
       "      <th>21</th>\n",
       "      <td>{'learning_rate': 0.13, 'max_depth': 5, 'n_estimators': 550}</td>\n",
       "      <td>19</td>\n",
       "      <td>0.709151</td>\n",
       "      <td>0.017161</td>\n",
       "      <td>0.722060</td>\n",
       "      <td>0.707692</td>\n",
       "      <td>0.706345</td>\n",
       "      <td>0.729913</td>\n",
       "      <td>0.679745</td>\n",
       "    </tr>\n",
       "    <tr>\n",
       "      <th>7</th>\n",
       "      <td>{'learning_rate': 0.1, 'max_depth': 7, 'n_estimators': 600}</td>\n",
       "      <td>20</td>\n",
       "      <td>0.708969</td>\n",
       "      <td>0.021509</td>\n",
       "      <td>0.729035</td>\n",
       "      <td>0.704433</td>\n",
       "      <td>0.703523</td>\n",
       "      <td>0.734007</td>\n",
       "      <td>0.673849</td>\n",
       "    </tr>\n",
       "    <tr>\n",
       "      <th>15</th>\n",
       "      <td>{'learning_rate': 0.12, 'max_depth': 7, 'n_estimators': 550}</td>\n",
       "      <td>21</td>\n",
       "      <td>0.708094</td>\n",
       "      <td>0.021152</td>\n",
       "      <td>0.722681</td>\n",
       "      <td>0.707436</td>\n",
       "      <td>0.712543</td>\n",
       "      <td>0.729197</td>\n",
       "      <td>0.668613</td>\n",
       "    </tr>\n",
       "    <tr>\n",
       "      <th>8</th>\n",
       "      <td>{'learning_rate': 0.1, 'max_depth': 7, 'n_estimators': 650}</td>\n",
       "      <td>22</td>\n",
       "      <td>0.707754</td>\n",
       "      <td>0.022198</td>\n",
       "      <td>0.728329</td>\n",
       "      <td>0.704668</td>\n",
       "      <td>0.702491</td>\n",
       "      <td>0.732692</td>\n",
       "      <td>0.670588</td>\n",
       "    </tr>\n",
       "    <tr>\n",
       "      <th>24</th>\n",
       "      <td>{'learning_rate': 0.13, 'max_depth': 7, 'n_estimators': 550}</td>\n",
       "      <td>23</td>\n",
       "      <td>0.707534</td>\n",
       "      <td>0.019256</td>\n",
       "      <td>0.721550</td>\n",
       "      <td>0.711068</td>\n",
       "      <td>0.705479</td>\n",
       "      <td>0.727360</td>\n",
       "      <td>0.672211</td>\n",
       "    </tr>\n",
       "    <tr>\n",
       "      <th>16</th>\n",
       "      <td>{'learning_rate': 0.12, 'max_depth': 7, 'n_estimators': 600}</td>\n",
       "      <td>24</td>\n",
       "      <td>0.707002</td>\n",
       "      <td>0.020373</td>\n",
       "      <td>0.719572</td>\n",
       "      <td>0.707662</td>\n",
       "      <td>0.711632</td>\n",
       "      <td>0.727535</td>\n",
       "      <td>0.668610</td>\n",
       "    </tr>\n",
       "    <tr>\n",
       "      <th>25</th>\n",
       "      <td>{'learning_rate': 0.13, 'max_depth': 7, 'n_estimators': 600}</td>\n",
       "      <td>25</td>\n",
       "      <td>0.706679</td>\n",
       "      <td>0.020196</td>\n",
       "      <td>0.720773</td>\n",
       "      <td>0.707843</td>\n",
       "      <td>0.705248</td>\n",
       "      <td>0.729276</td>\n",
       "      <td>0.670254</td>\n",
       "    </tr>\n",
       "    <tr>\n",
       "      <th>26</th>\n",
       "      <td>{'learning_rate': 0.13, 'max_depth': 7, 'n_estimators': 650}</td>\n",
       "      <td>26</td>\n",
       "      <td>0.705345</td>\n",
       "      <td>0.019376</td>\n",
       "      <td>0.716836</td>\n",
       "      <td>0.708415</td>\n",
       "      <td>0.704267</td>\n",
       "      <td>0.727273</td>\n",
       "      <td>0.669936</td>\n",
       "    </tr>\n",
       "    <tr>\n",
       "      <th>17</th>\n",
       "      <td>{'learning_rate': 0.12, 'max_depth': 7, 'n_estimators': 650}</td>\n",
       "      <td>27</td>\n",
       "      <td>0.704532</td>\n",
       "      <td>0.022192</td>\n",
       "      <td>0.718750</td>\n",
       "      <td>0.700830</td>\n",
       "      <td>0.713171</td>\n",
       "      <td>0.726488</td>\n",
       "      <td>0.663424</td>\n",
       "    </tr>\n",
       "  </tbody>\n",
       "</table>\n",
       "</div>"
      ],
      "text/plain": [
       "                                                          params  rank_test_score  mean_test_score  std_test_score  split0_test_score  split1_test_score  split2_test_score  split3_test_score  split4_test_score\n",
       "0    {'learning_rate': 0.1, 'max_depth': 3, 'n_estimators': 550}                1         0.716646        0.013763           0.728713           0.711644           0.715285           0.733268           0.694321\n",
       "2    {'learning_rate': 0.1, 'max_depth': 3, 'n_estimators': 650}                2         0.716350        0.013634           0.729423           0.712288           0.713147           0.732353           0.694540\n",
       "19  {'learning_rate': 0.13, 'max_depth': 3, 'n_estimators': 600}                3         0.716160        0.014316           0.729146           0.711577           0.712425           0.733954           0.693698\n",
       "18  {'learning_rate': 0.13, 'max_depth': 3, 'n_estimators': 550}                4         0.715689        0.014987           0.730750           0.712425           0.710777           0.732712           0.691781\n",
       "9   {'learning_rate': 0.12, 'max_depth': 3, 'n_estimators': 550}                5         0.715433        0.012113           0.727720           0.713643           0.708963           0.729690           0.697148\n",
       "1    {'learning_rate': 0.1, 'max_depth': 3, 'n_estimators': 600}                6         0.715136        0.013155           0.726733           0.710934           0.713573           0.730845           0.693596\n",
       "11  {'learning_rate': 0.12, 'max_depth': 3, 'n_estimators': 650}                7         0.714854        0.011437           0.724595           0.714571           0.711111           0.728256           0.695737\n",
       "20  {'learning_rate': 0.13, 'max_depth': 3, 'n_estimators': 650}                8         0.714509        0.013378           0.725672           0.712575           0.712425           0.730128           0.691744\n",
       "10  {'learning_rate': 0.12, 'max_depth': 3, 'n_estimators': 600}                9         0.714305        0.012803           0.726115           0.714286           0.707071           0.729597           0.694458\n",
       "3    {'learning_rate': 0.1, 'max_depth': 5, 'n_estimators': 550}               10         0.712661        0.016513           0.724004           0.708105           0.711814           0.734140           0.685239\n",
       "4    {'learning_rate': 0.1, 'max_depth': 5, 'n_estimators': 600}               11         0.712125        0.016269           0.723032           0.709199           0.712383           0.732108           0.683902\n",
       "5    {'learning_rate': 0.1, 'max_depth': 5, 'n_estimators': 650}               12         0.711724        0.016841           0.724624           0.710059           0.712032           0.730266           0.681641\n",
       "13  {'learning_rate': 0.12, 'max_depth': 5, 'n_estimators': 600}               13         0.711170        0.017129           0.724539           0.706173           0.712598           0.730900           0.681641\n",
       "14  {'learning_rate': 0.12, 'max_depth': 5, 'n_estimators': 650}               14         0.711146        0.016173           0.723837           0.708148           0.712949           0.728509           0.682284\n",
       "12  {'learning_rate': 0.12, 'max_depth': 5, 'n_estimators': 550}               15         0.711021        0.016724           0.725073           0.706173           0.712666           0.729217           0.681974\n",
       "6    {'learning_rate': 0.1, 'max_depth': 7, 'n_estimators': 550}               16         0.710425        0.020318           0.732299           0.706345           0.704446           0.731566           0.677467\n",
       "22  {'learning_rate': 0.13, 'max_depth': 5, 'n_estimators': 600}               17         0.709619        0.016953           0.724539           0.706991           0.707843           0.728329           0.680392\n",
       "23  {'learning_rate': 0.13, 'max_depth': 5, 'n_estimators': 650}               18         0.709208        0.016201           0.721899           0.707341           0.707783           0.727977           0.681039\n",
       "21  {'learning_rate': 0.13, 'max_depth': 5, 'n_estimators': 550}               19         0.709151        0.017161           0.722060           0.707692           0.706345           0.729913           0.679745\n",
       "7    {'learning_rate': 0.1, 'max_depth': 7, 'n_estimators': 600}               20         0.708969        0.021509           0.729035           0.704433           0.703523           0.734007           0.673849\n",
       "15  {'learning_rate': 0.12, 'max_depth': 7, 'n_estimators': 550}               21         0.708094        0.021152           0.722681           0.707436           0.712543           0.729197           0.668613\n",
       "8    {'learning_rate': 0.1, 'max_depth': 7, 'n_estimators': 650}               22         0.707754        0.022198           0.728329           0.704668           0.702491           0.732692           0.670588\n",
       "24  {'learning_rate': 0.13, 'max_depth': 7, 'n_estimators': 550}               23         0.707534        0.019256           0.721550           0.711068           0.705479           0.727360           0.672211\n",
       "16  {'learning_rate': 0.12, 'max_depth': 7, 'n_estimators': 600}               24         0.707002        0.020373           0.719572           0.707662           0.711632           0.727535           0.668610\n",
       "25  {'learning_rate': 0.13, 'max_depth': 7, 'n_estimators': 600}               25         0.706679        0.020196           0.720773           0.707843           0.705248           0.729276           0.670254\n",
       "26  {'learning_rate': 0.13, 'max_depth': 7, 'n_estimators': 650}               26         0.705345        0.019376           0.716836           0.708415           0.704267           0.727273           0.669936\n",
       "17  {'learning_rate': 0.12, 'max_depth': 7, 'n_estimators': 650}               27         0.704532        0.022192           0.718750           0.700830           0.713171           0.726488           0.663424"
      ]
     },
     "execution_count": 91,
     "metadata": {},
     "output_type": "execute_result"
    }
   ],
   "source": [
    "results = pd.DataFrame(search2.cv_results_)\n",
    "results = results[['params', 'rank_test_score', 'mean_test_score', 'std_test_score', \n",
    "                   'split0_test_score', 'split1_test_score', 'split2_test_score', 'split3_test_score', 'split4_test_score']].sort_values(by=['rank_test_score'])\n",
    "results"
   ]
  },
  {
   "cell_type": "code",
   "execution_count": 92,
   "metadata": {},
   "outputs": [
    {
     "data": {
      "text/plain": [
       "XGBClassifier(base_score=0.5, booster='gbtree', colsample_bylevel=1,\n",
       "              colsample_bynode=1, colsample_bytree=1, gamma=0, gpu_id=-1,\n",
       "              importance_type='gain', interaction_constraints='',\n",
       "              learning_rate=0.1, max_delta_step=0, max_depth=3,\n",
       "              min_child_weight=1, missing=nan, monotone_constraints='()',\n",
       "              n_estimators=550, n_jobs=2, num_parallel_tree=1, random_state=0,\n",
       "              reg_alpha=0, reg_lambda=1, scale_pos_weight=1, subsample=1,\n",
       "              tree_method='exact', validate_parameters=1, verbosity=None)"
      ]
     },
     "execution_count": 92,
     "metadata": {},
     "output_type": "execute_result"
    }
   ],
   "source": [
    "search2.best_estimator_"
   ]
  },
  {
   "cell_type": "markdown",
   "metadata": {},
   "source": [
    "# Evaluate Best Models performance on Test Data"
   ]
  },
  {
   "cell_type": "code",
   "execution_count": 369,
   "metadata": {},
   "outputs": [
    {
     "name": "stderr",
     "output_type": "stream",
     "text": [
      "/opt/conda/lib/python3.8/site-packages/xgboost/sklearn.py:1146: UserWarning: The use of label encoder in XGBClassifier is deprecated and will be removed in a future release. To remove this warning, do the following: 1) Pass option use_label_encoder=False when constructing XGBClassifier object; and 2) Encode your labels (y) as integers starting with 0, i.e. 0, 1, 2, ..., [num_class - 1].\n",
      "  warnings.warn(label_encoder_deprecation_msg, UserWarning)\n"
     ]
    },
    {
     "name": "stdout",
     "output_type": "stream",
     "text": [
      "[12:59:50] WARNING: ../src/learner.cc:1095: Starting in XGBoost 1.3.0, the default evaluation metric used with the objective 'binary:logistic' was changed from 'error' to 'logloss'. Explicitly set eval_metric if you'd like to restore the old behavior.\n"
     ]
    },
    {
     "name": "stderr",
     "output_type": "stream",
     "text": [
      "/opt/conda/lib/python3.8/site-packages/xgboost/data.py:112: UserWarning: Use subset (sliced data) of np.ndarray is not recommended because it will generate extra copies and increase memory consumption\n",
      "  warnings.warn(\n"
     ]
    },
    {
     "name": "stdout",
     "output_type": "stream",
     "text": [
      "              precision    recall  f1-score   support\n",
      "\n",
      "       <=50K       0.90      0.94      0.92      7417\n",
      "        >50K       0.77      0.66      0.71      2352\n",
      "\n",
      "    accuracy                           0.87      9769\n",
      "   macro avg       0.84      0.80      0.82      9769\n",
      "weighted avg       0.87      0.87      0.87      9769\n",
      "\n"
     ]
    },
    {
     "data": {
      "text/html": [
       "<div>\n",
       "<style scoped>\n",
       "    .dataframe tbody tr th:only-of-type {\n",
       "        vertical-align: middle;\n",
       "    }\n",
       "\n",
       "    .dataframe tbody tr th {\n",
       "        vertical-align: top;\n",
       "    }\n",
       "\n",
       "    .dataframe thead th {\n",
       "        text-align: right;\n",
       "    }\n",
       "</style>\n",
       "<table border=\"1\" class=\"dataframe\">\n",
       "  <thead>\n",
       "    <tr style=\"text-align: right;\">\n",
       "      <th></th>\n",
       "      <th>&lt;=50K</th>\n",
       "      <th>&gt;50K</th>\n",
       "    </tr>\n",
       "  </thead>\n",
       "  <tbody>\n",
       "    <tr>\n",
       "      <th>&lt;=50K</th>\n",
       "      <td>6960</td>\n",
       "      <td>457</td>\n",
       "    </tr>\n",
       "    <tr>\n",
       "      <th>&gt;50K</th>\n",
       "      <td>792</td>\n",
       "      <td>1560</td>\n",
       "    </tr>\n",
       "  </tbody>\n",
       "</table>\n",
       "</div>"
      ],
      "text/plain": [
       "       <=50K  >50K\n",
       "<=50K   6960   457\n",
       ">50K     792  1560"
      ]
     },
     "execution_count": 369,
     "metadata": {},
     "output_type": "execute_result"
    }
   ],
   "source": [
    "from sklearn.metrics import classification_report, confusion_matrix\n",
    "\n",
    "model1 = search.best_estimator_\n",
    "class_labels = model1.classes_\n",
    "\n",
    "model1.fit(X_train, y_train)\n",
    "\n",
    "predictions = model1.predict(X_test)\n",
    "print(classification_report(y_test, predictions))\n",
    "pd.DataFrame(confusion_matrix(y_test, predictions), columns=class_labels, index=class_labels)"
   ]
  },
  {
   "cell_type": "code",
   "execution_count": 293,
   "metadata": {},
   "outputs": [
    {
     "name": "stderr",
     "output_type": "stream",
     "text": [
      "/opt/conda/lib/python3.8/site-packages/xgboost/sklearn.py:1146: UserWarning: The use of label encoder in XGBClassifier is deprecated and will be removed in a future release. To remove this warning, do the following: 1) Pass option use_label_encoder=False when constructing XGBClassifier object; and 2) Encode your labels (y) as integers starting with 0, i.e. 0, 1, 2, ..., [num_class - 1].\n",
      "  warnings.warn(label_encoder_deprecation_msg, UserWarning)\n"
     ]
    },
    {
     "name": "stdout",
     "output_type": "stream",
     "text": [
      "[12:45:31] WARNING: ../src/learner.cc:1095: Starting in XGBoost 1.3.0, the default evaluation metric used with the objective 'binary:logistic' was changed from 'error' to 'logloss'. Explicitly set eval_metric if you'd like to restore the old behavior.\n"
     ]
    },
    {
     "name": "stderr",
     "output_type": "stream",
     "text": [
      "/opt/conda/lib/python3.8/site-packages/xgboost/data.py:112: UserWarning: Use subset (sliced data) of np.ndarray is not recommended because it will generate extra copies and increase memory consumption\n",
      "  warnings.warn(\n"
     ]
    },
    {
     "name": "stdout",
     "output_type": "stream",
     "text": [
      "              precision    recall  f1-score   support\n",
      "\n",
      "       <=50K       0.90      0.94      0.92      7417\n",
      "        >50K       0.77      0.66      0.71      2352\n",
      "\n",
      "    accuracy                           0.87      9769\n",
      "   macro avg       0.83      0.80      0.81      9769\n",
      "weighted avg       0.87      0.87      0.87      9769\n",
      "\n"
     ]
    },
    {
     "data": {
      "text/html": [
       "<div>\n",
       "<style scoped>\n",
       "    .dataframe tbody tr th:only-of-type {\n",
       "        vertical-align: middle;\n",
       "    }\n",
       "\n",
       "    .dataframe tbody tr th {\n",
       "        vertical-align: top;\n",
       "    }\n",
       "\n",
       "    .dataframe thead th {\n",
       "        text-align: right;\n",
       "    }\n",
       "</style>\n",
       "<table border=\"1\" class=\"dataframe\">\n",
       "  <thead>\n",
       "    <tr style=\"text-align: right;\">\n",
       "      <th></th>\n",
       "      <th>&lt;=50K</th>\n",
       "      <th>&gt;50K</th>\n",
       "    </tr>\n",
       "  </thead>\n",
       "  <tbody>\n",
       "    <tr>\n",
       "      <th>&lt;=50K</th>\n",
       "      <td>6958</td>\n",
       "      <td>459</td>\n",
       "    </tr>\n",
       "    <tr>\n",
       "      <th>&gt;50K</th>\n",
       "      <td>811</td>\n",
       "      <td>1541</td>\n",
       "    </tr>\n",
       "  </tbody>\n",
       "</table>\n",
       "</div>"
      ],
      "text/plain": [
       "       <=50K  >50K\n",
       "<=50K   6958   459\n",
       ">50K     811  1541"
      ]
     },
     "execution_count": 293,
     "metadata": {},
     "output_type": "execute_result"
    }
   ],
   "source": [
    "model2 = search2.best_estimator_\n",
    "class_labels = model2.classes_\n",
    "\n",
    "model2.fit(X_train, y_train)\n",
    "\n",
    "predictions = model2.predict(X_test)\n",
    "print(classification_report(y_test, predictions))\n",
    "pd.DataFrame(confusion_matrix(y_test, predictions), columns=class_labels, index=class_labels)"
   ]
  },
  {
   "cell_type": "markdown",
   "metadata": {},
   "source": [
    "# Finalize Best Model and ML Model Artifacts"
   ]
  },
  {
   "cell_type": "markdown",
   "metadata": {},
   "source": [
    "To build a ML inference pipeline we need to starting thinking beyond notebooks. Hence we need to persist our best trained models along with all other artifacts like feature names, encoders, imputers, vectorizers and so on."
   ]
  },
  {
   "cell_type": "code",
   "execution_count": 294,
   "metadata": {},
   "outputs": [],
   "source": [
    "final_model = model1"
   ]
  },
  {
   "cell_type": "code",
   "execution_count": 370,
   "metadata": {},
   "outputs": [],
   "source": [
    "model_artifacts = {\n",
    "    'dummy_encoder': cat_dummy_encoder,\n",
    "    'cat_init_features': cat_cols.values,\n",
    "    'num_init_features': num_cols.values,\n",
    "    'cat_ohe_features': cat_ohe_cols,\n",
    "    'cat_imputer': cat_imputer,\n",
    "    'num_imputer': knn_imp,\n",
    "    'xgb_model': final_model,\n",
    "    'column_names_order': final_dataset_columns\n",
    "}"
   ]
  },
  {
   "cell_type": "code",
   "execution_count": 371,
   "metadata": {},
   "outputs": [
    {
     "data": {
      "text/plain": [
       "{'dummy_encoder': OneHotEncoder(handle_unknown='ignore'),\n",
       " 'cat_init_features': array(['relationship', 'marital.status', 'workclass', 'occupation',\n",
       "        'race', 'native.country', 'sex', 'education'], dtype=object),\n",
       " 'num_init_features': array(['age', 'hours.per.week', 'education.num', 'capital.loss',\n",
       "        'capital.gain'], dtype=object),\n",
       " 'cat_ohe_features': array(['relationship_Husband', 'relationship_Not-in-family',\n",
       "        'relationship_Other-relative', 'relationship_Own-child',\n",
       "        'relationship_Unmarried', 'relationship_Wife',\n",
       "        'marital.status_Divorced', 'marital.status_Married-AF-spouse',\n",
       "        'marital.status_Married-civ-spouse',\n",
       "        'marital.status_Married-spouse-absent',\n",
       "        'marital.status_Never-married', 'marital.status_Separated',\n",
       "        'marital.status_Widowed', 'workclass_Federal-gov',\n",
       "        'workclass_Local-gov', 'workclass_Never-worked',\n",
       "        'workclass_Not Available', 'workclass_Private',\n",
       "        'workclass_Self-emp-inc', 'workclass_Self-emp-not-inc',\n",
       "        'workclass_State-gov', 'workclass_Without-pay',\n",
       "        'occupation_Adm-clerical', 'occupation_Armed-Forces',\n",
       "        'occupation_Craft-repair', 'occupation_Exec-managerial',\n",
       "        'occupation_Farming-fishing', 'occupation_Handlers-cleaners',\n",
       "        'occupation_Machine-op-inspct', 'occupation_Not Available',\n",
       "        'occupation_Other-service', 'occupation_Priv-house-serv',\n",
       "        'occupation_Prof-specialty', 'occupation_Protective-serv',\n",
       "        'occupation_Sales', 'occupation_Tech-support',\n",
       "        'occupation_Transport-moving', 'race_Amer-Indian-Eskimo',\n",
       "        'race_Asian-Pac-Islander', 'race_Black', 'race_Other',\n",
       "        'race_White', 'native.country_Cambodia', 'native.country_Canada',\n",
       "        'native.country_China', 'native.country_Columbia',\n",
       "        'native.country_Cuba', 'native.country_Dominican-Republic',\n",
       "        'native.country_Ecuador', 'native.country_El-Salvador',\n",
       "        'native.country_England', 'native.country_France',\n",
       "        'native.country_Germany', 'native.country_Greece',\n",
       "        'native.country_Guatemala', 'native.country_Haiti',\n",
       "        'native.country_Honduras', 'native.country_Hong',\n",
       "        'native.country_Hungary', 'native.country_India',\n",
       "        'native.country_Iran', 'native.country_Ireland',\n",
       "        'native.country_Italy', 'native.country_Jamaica',\n",
       "        'native.country_Japan', 'native.country_Laos',\n",
       "        'native.country_Mexico', 'native.country_Nicaragua',\n",
       "        'native.country_Not Available',\n",
       "        'native.country_Outlying-US(Guam-USVI-etc)', 'native.country_Peru',\n",
       "        'native.country_Philippines', 'native.country_Poland',\n",
       "        'native.country_Portugal', 'native.country_Puerto-Rico',\n",
       "        'native.country_Scotland', 'native.country_South',\n",
       "        'native.country_Taiwan', 'native.country_Thailand',\n",
       "        'native.country_Trinadad&Tobago', 'native.country_United-States',\n",
       "        'native.country_Vietnam', 'native.country_Yugoslavia',\n",
       "        'sex_Female', 'sex_Male', 'education_10th', 'education_11th',\n",
       "        'education_12th', 'education_1st-4th', 'education_5th-6th',\n",
       "        'education_7th-8th', 'education_9th', 'education_Assoc-acdm',\n",
       "        'education_Assoc-voc', 'education_Bachelors',\n",
       "        'education_Doctorate', 'education_HS-grad', 'education_Masters',\n",
       "        'education_Preschool', 'education_Prof-school',\n",
       "        'education_Some-college'], dtype=object),\n",
       " 'cat_imputer': SimpleImputer(fill_value='Not Available', strategy='constant', verbose=1),\n",
       " 'num_imputer': KNNImputer(),\n",
       " 'xgb_model': XGBClassifier(base_score=0.5, booster='gbtree', colsample_bylevel=1,\n",
       "               colsample_bynode=1, colsample_bytree=1, gamma=0, gpu_id=-1,\n",
       "               importance_type='gain', interaction_constraints='',\n",
       "               learning_rate=0.12188470309348745, max_delta_step=0, max_depth=3,\n",
       "               min_child_weight=1, missing=nan, monotone_constraints='()',\n",
       "               n_estimators=600, n_jobs=2, num_parallel_tree=1, random_state=0,\n",
       "               reg_alpha=0, reg_lambda=1, scale_pos_weight=1, subsample=1,\n",
       "               tree_method='exact', validate_parameters=1, verbosity=None),\n",
       " 'column_names_order': array(['age', 'hours.per.week', 'education.num', 'capital.loss',\n",
       "        'capital.gain', 'relationship_Husband',\n",
       "        'relationship_Not-in-family', 'relationship_Other-relative',\n",
       "        'relationship_Own-child', 'relationship_Unmarried',\n",
       "        'relationship_Wife', 'marital.status_Divorced',\n",
       "        'marital.status_Married-AF-spouse',\n",
       "        'marital.status_Married-civ-spouse',\n",
       "        'marital.status_Married-spouse-absent',\n",
       "        'marital.status_Never-married', 'marital.status_Separated',\n",
       "        'marital.status_Widowed', 'workclass_Federal-gov',\n",
       "        'workclass_Local-gov', 'workclass_Never-worked',\n",
       "        'workclass_Not Available', 'workclass_Private',\n",
       "        'workclass_Self-emp-inc', 'workclass_Self-emp-not-inc',\n",
       "        'workclass_State-gov', 'workclass_Without-pay',\n",
       "        'occupation_Adm-clerical', 'occupation_Armed-Forces',\n",
       "        'occupation_Craft-repair', 'occupation_Exec-managerial',\n",
       "        'occupation_Farming-fishing', 'occupation_Handlers-cleaners',\n",
       "        'occupation_Machine-op-inspct', 'occupation_Not Available',\n",
       "        'occupation_Other-service', 'occupation_Priv-house-serv',\n",
       "        'occupation_Prof-specialty', 'occupation_Protective-serv',\n",
       "        'occupation_Sales', 'occupation_Tech-support',\n",
       "        'occupation_Transport-moving', 'race_Amer-Indian-Eskimo',\n",
       "        'race_Asian-Pac-Islander', 'race_Black', 'race_Other',\n",
       "        'race_White', 'native.country_Cambodia', 'native.country_Canada',\n",
       "        'native.country_China', 'native.country_Columbia',\n",
       "        'native.country_Cuba', 'native.country_Dominican-Republic',\n",
       "        'native.country_Ecuador', 'native.country_El-Salvador',\n",
       "        'native.country_England', 'native.country_France',\n",
       "        'native.country_Germany', 'native.country_Greece',\n",
       "        'native.country_Guatemala', 'native.country_Haiti',\n",
       "        'native.country_Honduras', 'native.country_Hong',\n",
       "        'native.country_Hungary', 'native.country_India',\n",
       "        'native.country_Iran', 'native.country_Ireland',\n",
       "        'native.country_Italy', 'native.country_Jamaica',\n",
       "        'native.country_Japan', 'native.country_Laos',\n",
       "        'native.country_Mexico', 'native.country_Nicaragua',\n",
       "        'native.country_Not Available',\n",
       "        'native.country_Outlying-US(Guam-USVI-etc)', 'native.country_Peru',\n",
       "        'native.country_Philippines', 'native.country_Poland',\n",
       "        'native.country_Portugal', 'native.country_Puerto-Rico',\n",
       "        'native.country_Scotland', 'native.country_South',\n",
       "        'native.country_Taiwan', 'native.country_Thailand',\n",
       "        'native.country_Trinadad&Tobago', 'native.country_United-States',\n",
       "        'native.country_Vietnam', 'native.country_Yugoslavia',\n",
       "        'sex_Female', 'sex_Male', 'education_10th', 'education_11th',\n",
       "        'education_12th', 'education_1st-4th', 'education_5th-6th',\n",
       "        'education_7th-8th', 'education_9th', 'education_Assoc-acdm',\n",
       "        'education_Assoc-voc', 'education_Bachelors',\n",
       "        'education_Doctorate', 'education_HS-grad', 'education_Masters',\n",
       "        'education_Preschool', 'education_Prof-school',\n",
       "        'education_Some-college'], dtype=object)}"
      ]
     },
     "execution_count": 371,
     "metadata": {},
     "output_type": "execute_result"
    }
   ],
   "source": [
    "model_artifacts"
   ]
  },
  {
   "cell_type": "markdown",
   "metadata": {},
   "source": [
    "# Save ML Model Artifacts"
   ]
  },
  {
   "cell_type": "code",
   "execution_count": 103,
   "metadata": {},
   "outputs": [
    {
     "name": "stdout",
     "output_type": "stream",
     "text": [
      "Collecting dill\n",
      "  Downloading dill-0.3.3-py2.py3-none-any.whl (81 kB)\n",
      "\u001b[K     |████████████████████████████████| 81 kB 9.4 MB/s  eta 0:00:01\n",
      "\u001b[?25hInstalling collected packages: dill\n",
      "Successfully installed dill-0.3.3\n"
     ]
    }
   ],
   "source": [
    "!pip install dill"
   ]
  },
  {
   "cell_type": "code",
   "execution_count": 372,
   "metadata": {},
   "outputs": [],
   "source": [
    "import dill"
   ]
  },
  {
   "cell_type": "code",
   "execution_count": 105,
   "metadata": {},
   "outputs": [
    {
     "name": "stdout",
     "output_type": "stream",
     "text": [
      "/home/ec2-user/ml_model_deployment_example/notebooks\n"
     ]
    }
   ],
   "source": [
    "!pwd"
   ]
  },
  {
   "cell_type": "code",
   "execution_count": 106,
   "metadata": {},
   "outputs": [],
   "source": [
    "!mkdir ../ml_app/saved_models"
   ]
  },
  {
   "cell_type": "code",
   "execution_count": 373,
   "metadata": {},
   "outputs": [],
   "source": [
    "with open(\"../ml_app/saved_models/census_xgb_artifacts.pkl\", \"wb\") as dill_file:\n",
    "    dill.dump(model_artifacts, dill_file)"
   ]
  },
  {
   "cell_type": "code",
   "execution_count": 374,
   "metadata": {},
   "outputs": [
    {
     "name": "stdout",
     "output_type": "stream",
     "text": [
      "\u001b[01;34m../\u001b[00m\n",
      "├── \u001b[01;34mdatasets\u001b[00m\n",
      "│   └── census.csv\n",
      "├── LICENSE\n",
      "├── \u001b[01;34mml_app\u001b[00m\n",
      "│   └── \u001b[01;34msaved_models\u001b[00m\n",
      "│       └── census_xgb_artifacts.pkl\n",
      "├── \u001b[01;34mnotebooks\u001b[00m\n",
      "│   └── ML\\ Prototyping\\ and\\ Exploration.ipynb\n",
      "└── README.md\n",
      "\n",
      "4 directories, 5 files\n"
     ]
    }
   ],
   "source": [
    "!tree ../"
   ]
  },
  {
   "cell_type": "markdown",
   "metadata": {},
   "source": [
    "# Try out a test inference pipeline with our test dataset"
   ]
  },
  {
   "cell_type": "markdown",
   "metadata": {},
   "source": [
    "## Load Data"
   ]
  },
  {
   "cell_type": "code",
   "execution_count": 375,
   "metadata": {},
   "outputs": [],
   "source": [
    "df = pd.read_csv('../datasets/census.csv', na_values='?')\n",
    "final_columns = set(df.columns) - set(['fnlwgt'])\n",
    "final_columns = list(final_columns)\n",
    "df = df[final_columns]\n",
    "\n",
    "X_train, X_test, y_train, y_test = train_test_split(X, y, test_size=0.3, random_state=42, stratify=y)"
   ]
  },
  {
   "cell_type": "code",
   "execution_count": 376,
   "metadata": {},
   "outputs": [
    {
     "name": "stdout",
     "output_type": "stream",
     "text": [
      "<class 'pandas.core.frame.DataFrame'>\n",
      "Int64Index: 9769 entries, 2168 to 4293\n",
      "Data columns (total 13 columns):\n",
      " #   Column          Non-Null Count  Dtype \n",
      "---  ------          --------------  ----- \n",
      " 0   relationship    9769 non-null   object\n",
      " 1   marital.status  9769 non-null   object\n",
      " 2   workclass       9228 non-null   object\n",
      " 3   occupation      9225 non-null   object\n",
      " 4   race            9769 non-null   object\n",
      " 5   age             9769 non-null   int64 \n",
      " 6   hours.per.week  9769 non-null   int64 \n",
      " 7   native.country  9590 non-null   object\n",
      " 8   sex             9769 non-null   object\n",
      " 9   education.num   9769 non-null   int64 \n",
      " 10  education       9769 non-null   object\n",
      " 11  capital.loss    9769 non-null   int64 \n",
      " 12  capital.gain    9769 non-null   int64 \n",
      "dtypes: int64(5), object(8)\n",
      "memory usage: 1.0+ MB\n"
     ]
    }
   ],
   "source": [
    "X_test.info()"
   ]
  },
  {
   "cell_type": "markdown",
   "metadata": {},
   "source": [
    "## Load Saved Model Artifacts"
   ]
  },
  {
   "cell_type": "code",
   "execution_count": 377,
   "metadata": {},
   "outputs": [],
   "source": [
    "with open(\"../ml_app/saved_models/census_xgb_artifacts.pkl\", \"rb\") as dill_infile:\n",
    "    xgb_model_artifacts = dill.load(dill_infile)"
   ]
  },
  {
   "cell_type": "code",
   "execution_count": 378,
   "metadata": {},
   "outputs": [
    {
     "data": {
      "text/plain": [
       "{'dummy_encoder': OneHotEncoder(handle_unknown='ignore'),\n",
       " 'cat_init_features': array(['relationship', 'marital.status', 'workclass', 'occupation',\n",
       "        'race', 'native.country', 'sex', 'education'], dtype=object),\n",
       " 'num_init_features': array(['age', 'hours.per.week', 'education.num', 'capital.loss',\n",
       "        'capital.gain'], dtype=object),\n",
       " 'cat_ohe_features': array(['relationship_Husband', 'relationship_Not-in-family',\n",
       "        'relationship_Other-relative', 'relationship_Own-child',\n",
       "        'relationship_Unmarried', 'relationship_Wife',\n",
       "        'marital.status_Divorced', 'marital.status_Married-AF-spouse',\n",
       "        'marital.status_Married-civ-spouse',\n",
       "        'marital.status_Married-spouse-absent',\n",
       "        'marital.status_Never-married', 'marital.status_Separated',\n",
       "        'marital.status_Widowed', 'workclass_Federal-gov',\n",
       "        'workclass_Local-gov', 'workclass_Never-worked',\n",
       "        'workclass_Not Available', 'workclass_Private',\n",
       "        'workclass_Self-emp-inc', 'workclass_Self-emp-not-inc',\n",
       "        'workclass_State-gov', 'workclass_Without-pay',\n",
       "        'occupation_Adm-clerical', 'occupation_Armed-Forces',\n",
       "        'occupation_Craft-repair', 'occupation_Exec-managerial',\n",
       "        'occupation_Farming-fishing', 'occupation_Handlers-cleaners',\n",
       "        'occupation_Machine-op-inspct', 'occupation_Not Available',\n",
       "        'occupation_Other-service', 'occupation_Priv-house-serv',\n",
       "        'occupation_Prof-specialty', 'occupation_Protective-serv',\n",
       "        'occupation_Sales', 'occupation_Tech-support',\n",
       "        'occupation_Transport-moving', 'race_Amer-Indian-Eskimo',\n",
       "        'race_Asian-Pac-Islander', 'race_Black', 'race_Other',\n",
       "        'race_White', 'native.country_Cambodia', 'native.country_Canada',\n",
       "        'native.country_China', 'native.country_Columbia',\n",
       "        'native.country_Cuba', 'native.country_Dominican-Republic',\n",
       "        'native.country_Ecuador', 'native.country_El-Salvador',\n",
       "        'native.country_England', 'native.country_France',\n",
       "        'native.country_Germany', 'native.country_Greece',\n",
       "        'native.country_Guatemala', 'native.country_Haiti',\n",
       "        'native.country_Honduras', 'native.country_Hong',\n",
       "        'native.country_Hungary', 'native.country_India',\n",
       "        'native.country_Iran', 'native.country_Ireland',\n",
       "        'native.country_Italy', 'native.country_Jamaica',\n",
       "        'native.country_Japan', 'native.country_Laos',\n",
       "        'native.country_Mexico', 'native.country_Nicaragua',\n",
       "        'native.country_Not Available',\n",
       "        'native.country_Outlying-US(Guam-USVI-etc)', 'native.country_Peru',\n",
       "        'native.country_Philippines', 'native.country_Poland',\n",
       "        'native.country_Portugal', 'native.country_Puerto-Rico',\n",
       "        'native.country_Scotland', 'native.country_South',\n",
       "        'native.country_Taiwan', 'native.country_Thailand',\n",
       "        'native.country_Trinadad&Tobago', 'native.country_United-States',\n",
       "        'native.country_Vietnam', 'native.country_Yugoslavia',\n",
       "        'sex_Female', 'sex_Male', 'education_10th', 'education_11th',\n",
       "        'education_12th', 'education_1st-4th', 'education_5th-6th',\n",
       "        'education_7th-8th', 'education_9th', 'education_Assoc-acdm',\n",
       "        'education_Assoc-voc', 'education_Bachelors',\n",
       "        'education_Doctorate', 'education_HS-grad', 'education_Masters',\n",
       "        'education_Preschool', 'education_Prof-school',\n",
       "        'education_Some-college'], dtype=object),\n",
       " 'cat_imputer': SimpleImputer(fill_value='Not Available', strategy='constant', verbose=1),\n",
       " 'num_imputer': KNNImputer(),\n",
       " 'xgb_model': XGBClassifier(base_score=0.5, booster='gbtree', colsample_bylevel=1,\n",
       "               colsample_bynode=1, colsample_bytree=1, gamma=0, gpu_id=-1,\n",
       "               importance_type='gain', interaction_constraints='',\n",
       "               learning_rate=0.12188470309348745, max_delta_step=0, max_depth=3,\n",
       "               min_child_weight=1, missing=nan, monotone_constraints='()',\n",
       "               n_estimators=600, n_jobs=2, num_parallel_tree=1, random_state=0,\n",
       "               reg_alpha=0, reg_lambda=1, scale_pos_weight=1, subsample=1,\n",
       "               tree_method='exact', validate_parameters=1, verbosity=None),\n",
       " 'column_names_order': array(['age', 'hours.per.week', 'education.num', 'capital.loss',\n",
       "        'capital.gain', 'relationship_Husband',\n",
       "        'relationship_Not-in-family', 'relationship_Other-relative',\n",
       "        'relationship_Own-child', 'relationship_Unmarried',\n",
       "        'relationship_Wife', 'marital.status_Divorced',\n",
       "        'marital.status_Married-AF-spouse',\n",
       "        'marital.status_Married-civ-spouse',\n",
       "        'marital.status_Married-spouse-absent',\n",
       "        'marital.status_Never-married', 'marital.status_Separated',\n",
       "        'marital.status_Widowed', 'workclass_Federal-gov',\n",
       "        'workclass_Local-gov', 'workclass_Never-worked',\n",
       "        'workclass_Not Available', 'workclass_Private',\n",
       "        'workclass_Self-emp-inc', 'workclass_Self-emp-not-inc',\n",
       "        'workclass_State-gov', 'workclass_Without-pay',\n",
       "        'occupation_Adm-clerical', 'occupation_Armed-Forces',\n",
       "        'occupation_Craft-repair', 'occupation_Exec-managerial',\n",
       "        'occupation_Farming-fishing', 'occupation_Handlers-cleaners',\n",
       "        'occupation_Machine-op-inspct', 'occupation_Not Available',\n",
       "        'occupation_Other-service', 'occupation_Priv-house-serv',\n",
       "        'occupation_Prof-specialty', 'occupation_Protective-serv',\n",
       "        'occupation_Sales', 'occupation_Tech-support',\n",
       "        'occupation_Transport-moving', 'race_Amer-Indian-Eskimo',\n",
       "        'race_Asian-Pac-Islander', 'race_Black', 'race_Other',\n",
       "        'race_White', 'native.country_Cambodia', 'native.country_Canada',\n",
       "        'native.country_China', 'native.country_Columbia',\n",
       "        'native.country_Cuba', 'native.country_Dominican-Republic',\n",
       "        'native.country_Ecuador', 'native.country_El-Salvador',\n",
       "        'native.country_England', 'native.country_France',\n",
       "        'native.country_Germany', 'native.country_Greece',\n",
       "        'native.country_Guatemala', 'native.country_Haiti',\n",
       "        'native.country_Honduras', 'native.country_Hong',\n",
       "        'native.country_Hungary', 'native.country_India',\n",
       "        'native.country_Iran', 'native.country_Ireland',\n",
       "        'native.country_Italy', 'native.country_Jamaica',\n",
       "        'native.country_Japan', 'native.country_Laos',\n",
       "        'native.country_Mexico', 'native.country_Nicaragua',\n",
       "        'native.country_Not Available',\n",
       "        'native.country_Outlying-US(Guam-USVI-etc)', 'native.country_Peru',\n",
       "        'native.country_Philippines', 'native.country_Poland',\n",
       "        'native.country_Portugal', 'native.country_Puerto-Rico',\n",
       "        'native.country_Scotland', 'native.country_South',\n",
       "        'native.country_Taiwan', 'native.country_Thailand',\n",
       "        'native.country_Trinadad&Tobago', 'native.country_United-States',\n",
       "        'native.country_Vietnam', 'native.country_Yugoslavia',\n",
       "        'sex_Female', 'sex_Male', 'education_10th', 'education_11th',\n",
       "        'education_12th', 'education_1st-4th', 'education_5th-6th',\n",
       "        'education_7th-8th', 'education_9th', 'education_Assoc-acdm',\n",
       "        'education_Assoc-voc', 'education_Bachelors',\n",
       "        'education_Doctorate', 'education_HS-grad', 'education_Masters',\n",
       "        'education_Preschool', 'education_Prof-school',\n",
       "        'education_Some-college'], dtype=object)}"
      ]
     },
     "execution_count": 378,
     "metadata": {},
     "output_type": "execute_result"
    }
   ],
   "source": [
    "xgb_model_artifacts"
   ]
  },
  {
   "cell_type": "code",
   "execution_count": 379,
   "metadata": {},
   "outputs": [],
   "source": [
    "categorical_features_init = xgb_model_artifacts['cat_init_features']\n",
    "categorical_features_ohe = xgb_model_artifacts['cat_ohe_features']\n",
    "numeric_features_init = xgb_model_artifacts['num_init_features']\n",
    "column_names = xgb_model_artifacts['column_names_order']\n",
    "\n",
    "categorical_imputer = xgb_model_artifacts['cat_imputer']\n",
    "categorical_ohe = xgb_model_artifacts['dummy_encoder']\n",
    "\n",
    "numeric_imputer = xgb_model_artifacts['num_imputer']\n",
    "\n",
    "ml_model = xgb_model_artifacts['xgb_model']"
   ]
  },
  {
   "cell_type": "markdown",
   "metadata": {},
   "source": [
    "## Pre-processing and Feature Encoding"
   ]
  },
  {
   "cell_type": "code",
   "execution_count": 380,
   "metadata": {},
   "outputs": [
    {
     "data": {
      "text/html": [
       "<div>\n",
       "<style scoped>\n",
       "    .dataframe tbody tr th:only-of-type {\n",
       "        vertical-align: middle;\n",
       "    }\n",
       "\n",
       "    .dataframe tbody tr th {\n",
       "        vertical-align: top;\n",
       "    }\n",
       "\n",
       "    .dataframe thead th {\n",
       "        text-align: right;\n",
       "    }\n",
       "</style>\n",
       "<table border=\"1\" class=\"dataframe\">\n",
       "  <thead>\n",
       "    <tr style=\"text-align: right;\">\n",
       "      <th></th>\n",
       "      <th>age</th>\n",
       "      <th>hours.per.week</th>\n",
       "      <th>education.num</th>\n",
       "      <th>capital.loss</th>\n",
       "      <th>capital.gain</th>\n",
       "      <th>relationship_Husband</th>\n",
       "      <th>relationship_Not-in-family</th>\n",
       "      <th>relationship_Other-relative</th>\n",
       "      <th>relationship_Own-child</th>\n",
       "      <th>relationship_Unmarried</th>\n",
       "      <th>...</th>\n",
       "      <th>education_9th</th>\n",
       "      <th>education_Assoc-acdm</th>\n",
       "      <th>education_Assoc-voc</th>\n",
       "      <th>education_Bachelors</th>\n",
       "      <th>education_Doctorate</th>\n",
       "      <th>education_HS-grad</th>\n",
       "      <th>education_Masters</th>\n",
       "      <th>education_Preschool</th>\n",
       "      <th>education_Prof-school</th>\n",
       "      <th>education_Some-college</th>\n",
       "    </tr>\n",
       "  </thead>\n",
       "  <tbody>\n",
       "    <tr>\n",
       "      <th>0</th>\n",
       "      <td>51.0</td>\n",
       "      <td>50.0</td>\n",
       "      <td>13.0</td>\n",
       "      <td>0.0</td>\n",
       "      <td>14084.0</td>\n",
       "      <td>0.0</td>\n",
       "      <td>1.0</td>\n",
       "      <td>0.0</td>\n",
       "      <td>0.0</td>\n",
       "      <td>0.0</td>\n",
       "      <td>...</td>\n",
       "      <td>0.0</td>\n",
       "      <td>0.0</td>\n",
       "      <td>0.0</td>\n",
       "      <td>1.0</td>\n",
       "      <td>0.0</td>\n",
       "      <td>0.0</td>\n",
       "      <td>0.0</td>\n",
       "      <td>0.0</td>\n",
       "      <td>0.0</td>\n",
       "      <td>0.0</td>\n",
       "    </tr>\n",
       "    <tr>\n",
       "      <th>1</th>\n",
       "      <td>48.0</td>\n",
       "      <td>20.0</td>\n",
       "      <td>13.0</td>\n",
       "      <td>0.0</td>\n",
       "      <td>0.0</td>\n",
       "      <td>0.0</td>\n",
       "      <td>0.0</td>\n",
       "      <td>0.0</td>\n",
       "      <td>0.0</td>\n",
       "      <td>1.0</td>\n",
       "      <td>...</td>\n",
       "      <td>0.0</td>\n",
       "      <td>0.0</td>\n",
       "      <td>0.0</td>\n",
       "      <td>1.0</td>\n",
       "      <td>0.0</td>\n",
       "      <td>0.0</td>\n",
       "      <td>0.0</td>\n",
       "      <td>0.0</td>\n",
       "      <td>0.0</td>\n",
       "      <td>0.0</td>\n",
       "    </tr>\n",
       "    <tr>\n",
       "      <th>2</th>\n",
       "      <td>65.0</td>\n",
       "      <td>30.0</td>\n",
       "      <td>9.0</td>\n",
       "      <td>0.0</td>\n",
       "      <td>0.0</td>\n",
       "      <td>1.0</td>\n",
       "      <td>0.0</td>\n",
       "      <td>0.0</td>\n",
       "      <td>0.0</td>\n",
       "      <td>0.0</td>\n",
       "      <td>...</td>\n",
       "      <td>0.0</td>\n",
       "      <td>0.0</td>\n",
       "      <td>0.0</td>\n",
       "      <td>0.0</td>\n",
       "      <td>0.0</td>\n",
       "      <td>1.0</td>\n",
       "      <td>0.0</td>\n",
       "      <td>0.0</td>\n",
       "      <td>0.0</td>\n",
       "      <td>0.0</td>\n",
       "    </tr>\n",
       "  </tbody>\n",
       "</table>\n",
       "<p>3 rows × 106 columns</p>\n",
       "</div>"
      ],
      "text/plain": [
       "    age  hours.per.week  education.num  capital.loss  capital.gain  relationship_Husband  relationship_Not-in-family  relationship_Other-relative  relationship_Own-child  relationship_Unmarried  ...  education_9th  education_Assoc-acdm  education_Assoc-voc  education_Bachelors  education_Doctorate  education_HS-grad  education_Masters  education_Preschool  education_Prof-school  education_Some-college\n",
       "0  51.0            50.0           13.0           0.0       14084.0                   0.0                         1.0                          0.0                     0.0                     0.0  ...            0.0                   0.0                  0.0                  1.0                  0.0                0.0                0.0                  0.0                    0.0                     0.0\n",
       "1  48.0            20.0           13.0           0.0           0.0                   0.0                         0.0                          0.0                     0.0                     1.0  ...            0.0                   0.0                  0.0                  1.0                  0.0                0.0                0.0                  0.0                    0.0                     0.0\n",
       "2  65.0            30.0            9.0           0.0           0.0                   1.0                         0.0                          0.0                     0.0                     0.0  ...            0.0                   0.0                  0.0                  0.0                  0.0                1.0                0.0                  0.0                    0.0                     0.0\n",
       "\n",
       "[3 rows x 106 columns]"
      ]
     },
     "execution_count": 380,
     "metadata": {},
     "output_type": "execute_result"
    }
   ],
   "source": [
    "X_test_cat = X_test[categorical_features_init]\n",
    "X_test_num = X_test[numeric_features_init]\n",
    "\n",
    "X_test_cat = pd.DataFrame(categorical_imputer.transform(X_test_cat), \n",
    "                          columns=categorical_features_init)\n",
    "X_test_cat_ohe = categorical_ohe.transform(X_test_cat).toarray()\n",
    "X_test_cat_ohe = pd.DataFrame(X_test_cat_ohe, \n",
    "                               columns=categorical_features_ohe)\n",
    "\n",
    "X_test_num = pd.DataFrame(numeric_imputer.transform(X_test_num), columns=numeric_features_init)\n",
    "\n",
    "X_test = pd.concat([X_test_num, X_test_cat_ohe], axis=1)\n",
    "X_test = X_test[column_names]\n",
    "X_test.head(3)"
   ]
  },
  {
   "cell_type": "markdown",
   "metadata": {},
   "source": [
    "## ML Model Inference"
   ]
  },
  {
   "cell_type": "code",
   "execution_count": 381,
   "metadata": {},
   "outputs": [
    {
     "name": "stderr",
     "output_type": "stream",
     "text": [
      "/opt/conda/lib/python3.8/site-packages/xgboost/data.py:112: UserWarning: Use subset (sliced data) of np.ndarray is not recommended because it will generate extra copies and increase memory consumption\n",
      "  warnings.warn(\n"
     ]
    },
    {
     "data": {
      "text/plain": [
       "array(['>50K', '<=50K', '<=50K', ..., '<=50K', '>50K', '<=50K'],\n",
       "      dtype=object)"
      ]
     },
     "execution_count": 381,
     "metadata": {},
     "output_type": "execute_result"
    }
   ],
   "source": [
    "predictions = ml_model.predict(X_test)\n",
    "predictions"
   ]
  },
  {
   "cell_type": "code",
   "execution_count": 382,
   "metadata": {},
   "outputs": [
    {
     "name": "stdout",
     "output_type": "stream",
     "text": [
      "              precision    recall  f1-score   support\n",
      "\n",
      "       <=50K       0.90      0.94      0.92      7417\n",
      "        >50K       0.77      0.66      0.71      2352\n",
      "\n",
      "    accuracy                           0.87      9769\n",
      "   macro avg       0.84      0.80      0.82      9769\n",
      "weighted avg       0.87      0.87      0.87      9769\n",
      "\n"
     ]
    },
    {
     "data": {
      "text/html": [
       "<div>\n",
       "<style scoped>\n",
       "    .dataframe tbody tr th:only-of-type {\n",
       "        vertical-align: middle;\n",
       "    }\n",
       "\n",
       "    .dataframe tbody tr th {\n",
       "        vertical-align: top;\n",
       "    }\n",
       "\n",
       "    .dataframe thead th {\n",
       "        text-align: right;\n",
       "    }\n",
       "</style>\n",
       "<table border=\"1\" class=\"dataframe\">\n",
       "  <thead>\n",
       "    <tr style=\"text-align: right;\">\n",
       "      <th></th>\n",
       "      <th>&lt;=50K</th>\n",
       "      <th>&gt;50K</th>\n",
       "    </tr>\n",
       "  </thead>\n",
       "  <tbody>\n",
       "    <tr>\n",
       "      <th>&lt;=50K</th>\n",
       "      <td>6960</td>\n",
       "      <td>457</td>\n",
       "    </tr>\n",
       "    <tr>\n",
       "      <th>&gt;50K</th>\n",
       "      <td>792</td>\n",
       "      <td>1560</td>\n",
       "    </tr>\n",
       "  </tbody>\n",
       "</table>\n",
       "</div>"
      ],
      "text/plain": [
       "       <=50K  >50K\n",
       "<=50K   6960   457\n",
       ">50K     792  1560"
      ]
     },
     "execution_count": 382,
     "metadata": {},
     "output_type": "execute_result"
    }
   ],
   "source": [
    "labels = ml_model.classes_\n",
    "\n",
    "print(classification_report(y_test, predictions))\n",
    "pd.DataFrame(confusion_matrix(y_test, predictions), columns=labels, index=labels)"
   ]
  }
 ],
 "metadata": {
  "kernelspec": {
   "display_name": "Python 3",
   "language": "python",
   "name": "python3"
  },
  "language_info": {
   "codemirror_mode": {
    "name": "ipython",
    "version": 3
   },
   "file_extension": ".py",
   "mimetype": "text/x-python",
   "name": "python",
   "nbconvert_exporter": "python",
   "pygments_lexer": "ipython3",
   "version": "3.8.5"
  }
 },
 "nbformat": 4,
 "nbformat_minor": 4
}
