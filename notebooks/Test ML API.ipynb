{
 "cells": [
  {
   "cell_type": "markdown",
   "metadata": {},
   "source": [
    "# Load Dependencies"
   ]
  },
  {
   "cell_type": "code",
   "execution_count": 20,
   "metadata": {},
   "outputs": [],
   "source": [
    "import requests\n",
    "import json"
   ]
  },
  {
   "cell_type": "markdown",
   "metadata": {},
   "source": [
    "# API Liveness Test"
   ]
  },
  {
   "cell_type": "code",
   "execution_count": 8,
   "metadata": {},
   "outputs": [],
   "source": [
    "API_LIVENESS_URL = 'http://ec2-44-192-74-26.compute-1.amazonaws.com:8900/income_classifier/api/v1/liveness'"
   ]
  },
  {
   "cell_type": "code",
   "execution_count": 9,
   "metadata": {},
   "outputs": [],
   "source": [
    "response = requests.get(API_LIVENESS_URL)"
   ]
  },
  {
   "cell_type": "code",
   "execution_count": 10,
   "metadata": {},
   "outputs": [
    {
     "data": {
      "text/plain": [
       "'API Live!'"
      ]
     },
     "execution_count": 10,
     "metadata": {},
     "output_type": "execute_result"
    }
   ],
   "source": [
    "response.text"
   ]
  },
  {
   "cell_type": "markdown",
   "metadata": {},
   "source": [
    "# API ML Inference Test"
   ]
  },
  {
   "cell_type": "code",
   "execution_count": 100,
   "metadata": {},
   "outputs": [],
   "source": [
    "import pandas as pd\n",
    "\n",
    "df = pd.read_csv('../datasets/census.csv')\n",
    "final_columns = set(df.columns) - set(['fnlwgt'])\n",
    "final_columns = list(final_columns)\n",
    "df = df[final_columns]\n",
    "df = df.drop(columns=['income'])\n",
    "\n",
    "data =  df.iloc[20001:20010].to_dict(orient='records')"
   ]
  },
  {
   "cell_type": "code",
   "execution_count": 101,
   "metadata": {},
   "outputs": [],
   "source": [
    "API_INFERENCE_URL = 'http://ec2-44-192-74-26.compute-1.amazonaws.com:8900/income_classifier/api/v1/predict'\n",
    "HEADERS = {'content-type': 'application/json'}"
   ]
  },
  {
   "cell_type": "code",
   "execution_count": 102,
   "metadata": {},
   "outputs": [
    {
     "data": {
      "text/plain": [
       "{'capital.gain': 0,\n",
       " 'sex': 'Male',\n",
       " 'capital.loss': 0,\n",
       " 'age': 37,\n",
       " 'relationship': 'Husband',\n",
       " 'hours.per.week': 40,\n",
       " 'education.num': 13,\n",
       " 'native.country': 'United-States',\n",
       " 'occupation': 'Exec-managerial',\n",
       " 'race': 'White',\n",
       " 'education': 'Bachelors',\n",
       " 'marital.status': 'Married-civ-spouse',\n",
       " 'workclass': 'Private'}"
      ]
     },
     "execution_count": 102,
     "metadata": {},
     "output_type": "execute_result"
    }
   ],
   "source": [
    "data[0]"
   ]
  },
  {
   "cell_type": "code",
   "execution_count": 103,
   "metadata": {},
   "outputs": [
    {
     "data": {
      "text/plain": [
       "'{\"data\": {\"capital.gain\": 0, \"sex\": \"Male\", \"capital.loss\": 0, \"age\": 37, \"relationship\": \"Husband\", \"hours.per.week\": 40, \"education.num\": 13, \"native.country\": \"United-States\", \"occupation\": \"Exec-managerial\", \"race\": \"White\", \"education\": \"Bachelors\", \"marital.status\": \"Married-civ-spouse\", \"workclass\": \"Private\"}}'"
      ]
     },
     "execution_count": 103,
     "metadata": {},
     "output_type": "execute_result"
    }
   ],
   "source": [
    "request_data = data[0]\n",
    "request = json.dumps({'data': request_data})\n",
    "request"
   ]
  },
  {
   "cell_type": "code",
   "execution_count": 104,
   "metadata": {},
   "outputs": [
    {
     "data": {
      "text/plain": [
       "{'predicted_classes': ['>50K']}"
      ]
     },
     "execution_count": 104,
     "metadata": {},
     "output_type": "execute_result"
    }
   ],
   "source": [
    "json_response = requests.post(API_INFERENCE_URL, data=request, headers=HEADERS)\n",
    "json_response.json()"
   ]
  },
  {
   "cell_type": "code",
   "execution_count": 115,
   "metadata": {},
   "outputs": [
    {
     "data": {
      "text/plain": [
       "'{\"data\": [{\"capital.gain\": 0, \"sex\": \"Male\", \"capital.loss\": 0, \"age\": 58, \"relationship\": \"Husband\", \"hours.per.week\": 20, \"education.num\": 9, \"native.country\": \"United-States\", \"occupation\": \"Craft-repair\", \"race\": \"White\", \"education\": \"HS-grad\", \"marital.status\": \"Married-civ-spouse\", \"workclass\": \"Self-emp-not-inc\"}, {\"capital.gain\": 0, \"sex\": \"Female\", \"capital.loss\": 0, \"age\": 26, \"relationship\": \"Not-in-family\", \"hours.per.week\": 40, \"education.num\": 13, \"native.country\": \"United-States\", \"occupation\": \"Adm-clerical\", \"race\": \"Black\", \"education\": \"Bachelors\", \"marital.status\": \"Never-married\", \"workclass\": \"Private\"}, {\"capital.gain\": 0, \"sex\": \"Male\", \"capital.loss\": 0, \"age\": 55, \"relationship\": \"Husband\", \"hours.per.week\": 50, \"education.num\": 10, \"native.country\": \"Canada\", \"occupation\": \"Tech-support\", \"race\": \"White\", \"education\": \"Some-college\", \"marital.status\": \"Married-civ-spouse\", \"workclass\": \"Private\"}, {\"capital.gain\": 0, \"sex\": \"Male\", \"capital.loss\": 0, \"age\": 46, \"relationship\": \"Husband\", \"hours.per.week\": 48, \"education.num\": 10, \"native.country\": \"United-States\", \"occupation\": \"Exec-managerial\", \"race\": \"White\", \"education\": \"Some-college\", \"marital.status\": \"Married-civ-spouse\", \"workclass\": \"Federal-gov\"}, {\"capital.gain\": 0, \"sex\": \"Male\", \"capital.loss\": 0, \"age\": 44, \"relationship\": \"Husband\", \"hours.per.week\": 60, \"education.num\": 7, \"native.country\": \"United-States\", \"occupation\": \"Other-service\", \"race\": \"Black\", \"education\": \"11th\", \"marital.status\": \"Married-civ-spouse\", \"workclass\": \"Private\"}, {\"capital.gain\": 0, \"sex\": \"Male\", \"capital.loss\": 0, \"age\": 28, \"relationship\": \"Not-in-family\", \"hours.per.week\": 55, \"education.num\": 13, \"native.country\": \"United-States\", \"occupation\": \"Exec-managerial\", \"race\": \"White\", \"education\": \"Bachelors\", \"marital.status\": \"Never-married\", \"workclass\": \"State-gov\"}, {\"capital.gain\": 0, \"sex\": \"Male\", \"capital.loss\": 0, \"age\": 42, \"relationship\": \"Husband\", \"hours.per.week\": 50, \"education.num\": 6, \"native.country\": \"United-States\", \"occupation\": \"Transport-moving\", \"race\": \"White\", \"education\": \"10th\", \"marital.status\": \"Married-civ-spouse\", \"workclass\": \"Private\"}, {\"capital.gain\": 0, \"sex\": \"Male\", \"capital.loss\": 0, \"age\": 41, \"relationship\": \"Not-in-family\", \"hours.per.week\": 40, \"education.num\": 9, \"native.country\": \"United-States\", \"occupation\": \"Craft-repair\", \"race\": \"White\", \"education\": \"HS-grad\", \"marital.status\": \"Divorced\", \"workclass\": \"Private\"}]}'"
      ]
     },
     "execution_count": 115,
     "metadata": {},
     "output_type": "execute_result"
    }
   ],
   "source": [
    "request_data = data[1:]\n",
    "request = json.dumps({'data': request_data})\n",
    "request"
   ]
  },
  {
   "cell_type": "code",
   "execution_count": 116,
   "metadata": {},
   "outputs": [
    {
     "data": {
      "text/plain": [
       "{'predicted_classes': ['<=50K',\n",
       "  '<=50K',\n",
       "  '>50K',\n",
       "  '>50K',\n",
       "  '<=50K',\n",
       "  '<=50K',\n",
       "  '<=50K',\n",
       "  '<=50K']}"
      ]
     },
     "execution_count": 116,
     "metadata": {},
     "output_type": "execute_result"
    }
   ],
   "source": [
    "json_response = requests.post(API_INFERENCE_URL, data=request, headers=HEADERS)\n",
    "json_response.json()"
   ]
  },
  {
   "cell_type": "code",
   "execution_count": null,
   "metadata": {},
   "outputs": [],
   "source": []
  }
 ],
 "metadata": {
  "kernelspec": {
   "display_name": "Python 3",
   "language": "python",
   "name": "python3"
  },
  "language_info": {
   "codemirror_mode": {
    "name": "ipython",
    "version": 3
   },
   "file_extension": ".py",
   "mimetype": "text/x-python",
   "name": "python",
   "nbconvert_exporter": "python",
   "pygments_lexer": "ipython3",
   "version": "3.8.5"
  }
 },
 "nbformat": 4,
 "nbformat_minor": 4
}
